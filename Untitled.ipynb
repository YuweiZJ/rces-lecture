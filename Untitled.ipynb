{
 "cells": [
  {
   "cell_type": "code",
   "execution_count": 1,
   "id": "9b58c65e-e2ef-46a8-ad6e-81682ac037dc",
   "metadata": {},
   "outputs": [
    {
     "data": {
      "text/plain": [
       "1"
      ]
     },
     "execution_count": 1,
     "metadata": {},
     "output_type": "execute_result"
    }
   ],
   "source": [
    "a = 1\n",
    "a"
   ]
  },
  {
   "cell_type": "code",
   "execution_count": 2,
   "id": "b2e35ae9-5a6d-4907-8069-f096c7cf2e7b",
   "metadata": {},
   "outputs": [],
   "source": [
    "b = \"heyy\""
   ]
  },
  {
   "cell_type": "code",
   "execution_count": 4,
   "id": "2c5ecfcd-874d-49a6-8411-d02051dafc68",
   "metadata": {},
   "outputs": [
    {
     "name": "stdout",
     "output_type": "stream",
     "text": [
      "1 heyy\n"
     ]
    }
   ],
   "source": [
    "print(a,b);"
   ]
  },
  {
   "cell_type": "code",
   "execution_count": 5,
   "id": "400447aa-93a3-4644-875b-fff376287c17",
   "metadata": {},
   "outputs": [
    {
     "data": {
      "text/plain": [
       "int"
      ]
     },
     "execution_count": 5,
     "metadata": {},
     "output_type": "execute_result"
    }
   ],
   "source": [
    "type(a)"
   ]
  },
  {
   "cell_type": "code",
   "execution_count": 6,
   "id": "a767180e-7d58-4d07-b4e0-994bcba5f618",
   "metadata": {},
   "outputs": [
    {
     "data": {
      "text/plain": [
       "str"
      ]
     },
     "execution_count": 6,
     "metadata": {},
     "output_type": "execute_result"
    }
   ],
   "source": [
    "type(b)"
   ]
  },
  {
   "cell_type": "code",
   "execution_count": 7,
   "id": "cc94722a-c4b4-4499-84cd-19c85d7834db",
   "metadata": {},
   "outputs": [
    {
     "data": {
      "text/plain": [
       "'heyy'"
      ]
     },
     "execution_count": 7,
     "metadata": {},
     "output_type": "execute_result"
    }
   ],
   "source": [
    "b"
   ]
  },
  {
   "cell_type": "code",
   "execution_count": 9,
   "id": "04dfcd82-dc0c-4def-a608-a06d7d92eeb5",
   "metadata": {},
   "outputs": [
    {
     "data": {
      "text/plain": [
       "'Heyy'"
      ]
     },
     "execution_count": 9,
     "metadata": {},
     "output_type": "execute_result"
    }
   ],
   "source": [
    "b.capitalize()"
   ]
  },
  {
   "cell_type": "code",
   "execution_count": 12,
   "id": "d02bdfa9-7e58-48be-acf7-6cab9aecea4b",
   "metadata": {},
   "outputs": [
    {
     "data": {
      "text/plain": [
       "1"
      ]
     },
     "execution_count": 12,
     "metadata": {},
     "output_type": "execute_result"
    }
   ],
   "source": [
    "b.rfind('e')"
   ]
  },
  {
   "cell_type": "code",
   "execution_count": 13,
   "id": "836167e9-1ad9-4ea6-83ef-0c6e02613e99",
   "metadata": {},
   "outputs": [],
   "source": [
    "c =' lol'"
   ]
  },
  {
   "cell_type": "code",
   "execution_count": 14,
   "id": "6cb24814-8304-4916-a14e-3c9e02083f66",
   "metadata": {},
   "outputs": [
    {
     "name": "stdout",
     "output_type": "stream",
     "text": [
      "heyy lol\n"
     ]
    }
   ],
   "source": [
    "print(b+c)"
   ]
  },
  {
   "cell_type": "code",
   "execution_count": 16,
   "id": "951885e6-d800-452e-bd3d-54e8790ade9c",
   "metadata": {},
   "outputs": [
    {
     "name": "stdout",
     "output_type": "stream",
     "text": [
      "3\n"
     ]
    }
   ],
   "source": [
    "print(a+2)"
   ]
  },
  {
   "cell_type": "raw",
   "id": "ab6bba58-8eb8-4e71-a3af-e611949fd678",
   "metadata": {},
   "source": []
  },
  {
   "cell_type": "code",
   "execution_count": 17,
   "id": "906e6a44-b4de-407b-a8b9-331c96f6ab7a",
   "metadata": {},
   "outputs": [
    {
     "ename": "TypeError",
     "evalue": "unsupported operand type(s) for +: 'int' and 'str'",
     "output_type": "error",
     "traceback": [
      "\u001b[0;31m---------------------------------------------------------------------------\u001b[0m",
      "\u001b[0;31mTypeError\u001b[0m                                 Traceback (most recent call last)",
      "Input \u001b[0;32mIn [17]\u001b[0m, in \u001b[0;36m<cell line: 1>\u001b[0;34m()\u001b[0m\n\u001b[0;32m----> 1\u001b[0m \u001b[38;5;28mprint\u001b[39m(\u001b[43ma\u001b[49m\u001b[38;5;241;43m+\u001b[39;49m\u001b[43mb\u001b[49m)\n",
      "\u001b[0;31mTypeError\u001b[0m: unsupported operand type(s) for +: 'int' and 'str'"
     ]
    }
   ],
   "source": [
    "print(a+b)"
   ]
  },
  {
   "cell_type": "markdown",
   "id": "23d93874-7a36-47ff-9b43-082dcbb48676",
   "metadata": {},
   "source": [
    "Math"
   ]
  },
  {
   "cell_type": "code",
   "execution_count": 18,
   "id": "78391f4a-90a6-4016-a205-4f340e1a11e6",
   "metadata": {},
   "outputs": [
    {
     "data": {
      "text/plain": [
       "-3"
      ]
     },
     "execution_count": 18,
     "metadata": {},
     "output_type": "execute_result"
    }
   ],
   "source": [
    "1+1-5"
   ]
  },
  {
   "cell_type": "code",
   "execution_count": 19,
   "id": "2f6da56a-fdbf-42a2-bcce-0dc6285da5ba",
   "metadata": {},
   "outputs": [
    {
     "data": {
      "text/plain": [
       "0.5"
      ]
     },
     "execution_count": 19,
     "metadata": {},
     "output_type": "execute_result"
    }
   ],
   "source": [
    "1/2"
   ]
  },
  {
   "cell_type": "code",
   "execution_count": 20,
   "id": "bc3e466a-7785-4c18-afa0-994be86fe2ce",
   "metadata": {},
   "outputs": [],
   "source": [
    "d = 1/2"
   ]
  },
  {
   "cell_type": "code",
   "execution_count": 21,
   "id": "a4cfcf58-6cb8-4c8a-8e78-b64768805398",
   "metadata": {},
   "outputs": [
    {
     "data": {
      "text/plain": [
       "0.5"
      ]
     },
     "execution_count": 21,
     "metadata": {},
     "output_type": "execute_result"
    }
   ],
   "source": [
    "d"
   ]
  },
  {
   "cell_type": "code",
   "execution_count": 22,
   "id": "a50b491a-4ad4-4c07-8126-0913db435bc5",
   "metadata": {},
   "outputs": [
    {
     "data": {
      "text/plain": [
       "float"
      ]
     },
     "execution_count": 22,
     "metadata": {},
     "output_type": "execute_result"
    }
   ],
   "source": [
    "type(d)"
   ]
  },
  {
   "cell_type": "code",
   "execution_count": 23,
   "id": "9de010db-b4f7-463e-9313-67e44d6be8a6",
   "metadata": {},
   "outputs": [
    {
     "data": {
      "text/plain": [
       "4"
      ]
     },
     "execution_count": 23,
     "metadata": {},
     "output_type": "execute_result"
    }
   ],
   "source": [
    "2**2"
   ]
  },
  {
   "cell_type": "code",
   "execution_count": 24,
   "id": "6b7ef840-c3b6-490d-b49d-d0368fb25a5f",
   "metadata": {},
   "outputs": [
    {
     "data": {
      "text/plain": [
       "1"
      ]
     },
     "execution_count": 24,
     "metadata": {},
     "output_type": "execute_result"
    }
   ],
   "source": [
    "round(9/10)"
   ]
  },
  {
   "cell_type": "code",
   "execution_count": 25,
   "id": "3e75990c-887d-4b81-a308-1ea9ee2e5ab0",
   "metadata": {},
   "outputs": [
    {
     "data": {
      "text/plain": [
       "int"
      ]
     },
     "execution_count": 25,
     "metadata": {},
     "output_type": "execute_result"
    }
   ],
   "source": [
    "type(round(9/10))"
   ]
  },
  {
   "cell_type": "code",
   "execution_count": 26,
   "id": "efb08f2f-2c5c-459b-902b-fa536346604e",
   "metadata": {},
   "outputs": [
    {
     "data": {
      "text/plain": [
       "float"
      ]
     },
     "execution_count": 26,
     "metadata": {},
     "output_type": "execute_result"
    }
   ],
   "source": [
    "type(9/10)"
   ]
  },
  {
   "cell_type": "code",
   "execution_count": 27,
   "id": "cda10ff3-cb52-4e63-b438-4b5f997f59d8",
   "metadata": {},
   "outputs": [
    {
     "data": {
      "text/plain": [
       "(-0.2+0.4j)"
      ]
     },
     "execution_count": 27,
     "metadata": {},
     "output_type": "execute_result"
    }
   ],
   "source": [
    "(1+2j)/(3-4j)"
   ]
  },
  {
   "cell_type": "code",
   "execution_count": 28,
   "id": "599280b5-302b-412f-8b36-5bfb485befc8",
   "metadata": {},
   "outputs": [
    {
     "data": {
      "text/plain": [
       "True"
      ]
     },
     "execution_count": 28,
     "metadata": {},
     "output_type": "execute_result"
    }
   ],
   "source": [
    "True and True"
   ]
  },
  {
   "cell_type": "code",
   "execution_count": 29,
   "id": "2645c17e-7a70-4f60-9cd9-ddad573f133c",
   "metadata": {},
   "outputs": [
    {
     "data": {
      "text/plain": [
       "False"
      ]
     },
     "execution_count": 29,
     "metadata": {},
     "output_type": "execute_result"
    }
   ],
   "source": [
    "True and False"
   ]
  },
  {
   "cell_type": "markdown",
   "id": "961d24ab-885f-482f-a99e-4dbfe5a4fb0e",
   "metadata": {},
   "source": [
    "Conditionals"
   ]
  },
  {
   "cell_type": "code",
   "execution_count": 34,
   "id": "351e27a1-6d84-427d-bd7a-8483550a766f",
   "metadata": {},
   "outputs": [
    {
     "name": "stdout",
     "output_type": "stream",
     "text": [
      "Positive Number\n"
     ]
    }
   ],
   "source": [
    "x =100\n",
    "if x>0:\n",
    "    print('Positive Number')\n",
    "elif x<0:\n",
    "    print('Negative Number')\n",
    "else:\n",
    "    print('zero')"
   ]
  },
  {
   "cell_type": "code",
   "execution_count": 33,
   "id": "cbf339e5-9e65-4752-bfe2-259d005d7f4d",
   "metadata": {},
   "outputs": [
    {
     "name": "stdout",
     "output_type": "stream",
     "text": [
      "Variable   Type     Data/Info\n",
      "-----------------------------\n",
      "a          int      1\n",
      "b          str      heyy\n",
      "c          str       lol\n",
      "d          float    0.5\n",
      "x          int      100\n"
     ]
    }
   ],
   "source": [
    "whos"
   ]
  },
  {
   "cell_type": "code",
   "execution_count": 39,
   "id": "2ec47801-33df-41bf-a66b-4285509f92c7",
   "metadata": {},
   "outputs": [],
   "source": [
    "x =0"
   ]
  },
  {
   "cell_type": "code",
   "execution_count": 40,
   "id": "35d49896-5d3d-4b4c-803f-0f1a67fe6412",
   "metadata": {},
   "outputs": [
    {
     "name": "stdout",
     "output_type": "stream",
     "text": [
      "Done\n"
     ]
    }
   ],
   "source": [
    "if x >0:\n",
    "    print('Positive number')\n",
    "    if x>100:\n",
    "        print('Large Number')\n",
    "print('Done')"
   ]
  },
  {
   "cell_type": "code",
   "execution_count": 41,
   "id": "f3fad31d-f4b3-49a3-a823-cd7cd7167602",
   "metadata": {},
   "outputs": [],
   "source": [
    "#more Flow Control"
   ]
  },
  {
   "cell_type": "code",
   "execution_count": 47,
   "id": "3f84252f-e2b6-4954-8bc6-557629595ff2",
   "metadata": {},
   "outputs": [
    {
     "name": "stdout",
     "output_type": "stream",
     "text": [
      "10\n"
     ]
    }
   ],
   "source": [
    "count = 0\n",
    "while count<10:\n",
    "    count = count+1\n",
    "    #count += 1\n",
    "print (count)"
   ]
  },
  {
   "cell_type": "code",
   "execution_count": 46,
   "id": "3aff792c-0ddb-4fd2-9666-58b97f895d24",
   "metadata": {},
   "outputs": [
    {
     "name": "stdout",
     "output_type": "stream",
     "text": [
      "0\n",
      "1\n",
      "2\n",
      "3\n",
      "4\n"
     ]
    }
   ],
   "source": [
    "for i in range(5):\n",
    "    print(i)"
   ]
  },
  {
   "cell_type": "code",
   "execution_count": 48,
   "id": "30c15301-1045-4a5d-b082-10aa0a72b5ac",
   "metadata": {},
   "outputs": [
    {
     "data": {
      "text/plain": [
       "range(0, 5)"
      ]
     },
     "execution_count": 48,
     "metadata": {},
     "output_type": "execute_result"
    }
   ],
   "source": [
    "range (5)"
   ]
  },
  {
   "cell_type": "code",
   "execution_count": 49,
   "id": "171e0d12-f08d-44c2-86ad-110f1f269286",
   "metadata": {},
   "outputs": [
    {
     "data": {
      "text/plain": [
       "[0, 1, 2, 3, 4]"
      ]
     },
     "execution_count": 49,
     "metadata": {},
     "output_type": "execute_result"
    }
   ],
   "source": [
    "list(range(5))"
   ]
  },
  {
   "cell_type": "code",
   "execution_count": 50,
   "id": "521631d2-e52d-45ef-a0d3-134d349e948a",
   "metadata": {},
   "outputs": [
    {
     "data": {
      "text/plain": [
       "\u001b[0;31mInit signature:\u001b[0m \u001b[0mrange\u001b[0m\u001b[0;34m(\u001b[0m\u001b[0mself\u001b[0m\u001b[0;34m,\u001b[0m \u001b[0;34m/\u001b[0m\u001b[0;34m,\u001b[0m \u001b[0;34m*\u001b[0m\u001b[0margs\u001b[0m\u001b[0;34m,\u001b[0m \u001b[0;34m**\u001b[0m\u001b[0mkwargs\u001b[0m\u001b[0;34m)\u001b[0m\u001b[0;34m\u001b[0m\u001b[0;34m\u001b[0m\u001b[0m\n",
       "\u001b[0;31mDocstring:\u001b[0m     \n",
       "range(stop) -> range object\n",
       "range(start, stop[, step]) -> range object\n",
       "\n",
       "Return an object that produces a sequence of integers from start (inclusive)\n",
       "to stop (exclusive) by step.  range(i, j) produces i, i+1, i+2, ..., j-1.\n",
       "start defaults to 0, and stop is omitted!  range(4) produces 0, 1, 2, 3.\n",
       "These are exactly the valid indices for a list of 4 elements.\n",
       "When step is given, it specifies the increment (or decrement).\n",
       "\u001b[0;31mType:\u001b[0m           type\n",
       "\u001b[0;31mSubclasses:\u001b[0m     \n"
      ]
     },
     "metadata": {},
     "output_type": "display_data"
    }
   ],
   "source": [
    "range?"
   ]
  },
  {
   "cell_type": "code",
   "execution_count": 51,
   "id": "c99e2e6e-3dcb-4dc4-976e-afe5ec4fcc3e",
   "metadata": {},
   "outputs": [
    {
     "data": {
      "text/plain": [
       "[4, 5]"
      ]
     },
     "execution_count": 51,
     "metadata": {},
     "output_type": "execute_result"
    }
   ],
   "source": [
    "list(range(4,6))"
   ]
  },
  {
   "cell_type": "markdown",
   "id": "6c89a2df-6e12-4915-8f45-7a8b4ae60d2c",
   "metadata": {},
   "source": [
    "#Lists"
   ]
  },
  {
   "cell_type": "code",
   "execution_count": 53,
   "id": "4e6f846a-0a6f-4302-ac06-2d8f97cf1f56",
   "metadata": {},
   "outputs": [],
   "source": [
    "l = ['dog','cat','duck']"
   ]
  },
  {
   "cell_type": "code",
   "execution_count": 54,
   "id": "5796ebf3-e4d3-4bdd-ae85-ad1c9aaa902e",
   "metadata": {},
   "outputs": [
    {
     "data": {
      "text/plain": [
       "['dog', 'cat', 'duck']"
      ]
     },
     "execution_count": 54,
     "metadata": {},
     "output_type": "execute_result"
    }
   ],
   "source": [
    "l"
   ]
  },
  {
   "cell_type": "code",
   "execution_count": 57,
   "id": "d645746c-794b-4c53-9472-aecd897fb226",
   "metadata": {},
   "outputs": [
    {
     "data": {
      "text/plain": [
       "['cat', 'dog', 'duck']"
      ]
     },
     "execution_count": 57,
     "metadata": {},
     "output_type": "execute_result"
    }
   ],
   "source": [
    "l.sort()\n",
    "l"
   ]
  },
  {
   "cell_type": "code",
   "execution_count": 58,
   "id": "49d4bd2e-320c-4c25-a9f0-0edf3658060f",
   "metadata": {},
   "outputs": [],
   "source": [
    "l.append('snake')"
   ]
  },
  {
   "cell_type": "code",
   "execution_count": 59,
   "id": "78531426-4945-47a7-9a50-6b6b52d0ca77",
   "metadata": {},
   "outputs": [
    {
     "data": {
      "text/plain": [
       "['cat', 'dog', 'duck', 'snake']"
      ]
     },
     "execution_count": 59,
     "metadata": {},
     "output_type": "execute_result"
    }
   ],
   "source": [
    "l"
   ]
  },
  {
   "cell_type": "code",
   "execution_count": 60,
   "id": "0203aa26-78ef-410a-a4f4-31acd364f261",
   "metadata": {},
   "outputs": [],
   "source": [
    "l.append(5)"
   ]
  },
  {
   "cell_type": "code",
   "execution_count": 61,
   "id": "b70cebc0-36c6-4221-b837-67da62167905",
   "metadata": {},
   "outputs": [
    {
     "data": {
      "text/plain": [
       "['cat', 'dog', 'duck', 'snake', 5]"
      ]
     },
     "execution_count": 61,
     "metadata": {},
     "output_type": "execute_result"
    }
   ],
   "source": [
    "l"
   ]
  },
  {
   "cell_type": "code",
   "execution_count": 62,
   "id": "3c5389b0-954f-4371-b8ff-9998f3545fea",
   "metadata": {},
   "outputs": [
    {
     "data": {
      "text/plain": [
       "[0, 1, 2, 3, 4, 10, 11, 12, 13, 14]"
      ]
     },
     "execution_count": 62,
     "metadata": {},
     "output_type": "execute_result"
    }
   ],
   "source": [
    "x = list(range(5))\n",
    "y = list(range(10,15))\n",
    "z = x+y\n",
    "z"
   ]
  },
  {
   "cell_type": "code",
   "execution_count": null,
   "id": "8aed8ea1-e3af-4d64-85c7-55b0b910fe30",
   "metadata": {},
   "outputs": [],
   "source": []
  }
 ],
 "metadata": {
  "kernelspec": {
   "display_name": "Python 3 (ipykernel)",
   "language": "python",
   "name": "python3"
  },
  "language_info": {
   "codemirror_mode": {
    "name": "ipython",
    "version": 3
   },
   "file_extension": ".py",
   "mimetype": "text/x-python",
   "name": "python",
   "nbconvert_exporter": "python",
   "pygments_lexer": "ipython3",
   "version": "3.9.13"
  }
 },
 "nbformat": 4,
 "nbformat_minor": 5
}
