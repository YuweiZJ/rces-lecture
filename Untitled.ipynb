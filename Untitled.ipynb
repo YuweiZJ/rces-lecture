{
 "cells": [
  {
   "cell_type": "code",
   "execution_count": 1,
   "id": "9b58c65e-e2ef-46a8-ad6e-81682ac037dc",
   "metadata": {},
   "outputs": [
    {
     "data": {
      "text/plain": [
       "1"
      ]
     },
     "execution_count": 1,
     "metadata": {},
     "output_type": "execute_result"
    }
   ],
   "source": [
    "a = 1\n",
    "a"
   ]
  },
  {
   "cell_type": "code",
   "execution_count": 2,
   "id": "b2e35ae9-5a6d-4907-8069-f096c7cf2e7b",
   "metadata": {},
   "outputs": [],
   "source": [
    "b = \"heyy\""
   ]
  },
  {
   "cell_type": "code",
   "execution_count": 4,
   "id": "2c5ecfcd-874d-49a6-8411-d02051dafc68",
   "metadata": {},
   "outputs": [
    {
     "name": "stdout",
     "output_type": "stream",
     "text": [
      "1 heyy\n"
     ]
    }
   ],
   "source": [
    "print(a,b);"
   ]
  },
  {
   "cell_type": "code",
   "execution_count": 5,
   "id": "400447aa-93a3-4644-875b-fff376287c17",
   "metadata": {},
   "outputs": [
    {
     "data": {
      "text/plain": [
       "int"
      ]
     },
     "execution_count": 5,
     "metadata": {},
     "output_type": "execute_result"
    }
   ],
   "source": [
    "type(a)"
   ]
  },
  {
   "cell_type": "code",
   "execution_count": 6,
   "id": "a767180e-7d58-4d07-b4e0-994bcba5f618",
   "metadata": {},
   "outputs": [
    {
     "data": {
      "text/plain": [
       "str"
      ]
     },
     "execution_count": 6,
     "metadata": {},
     "output_type": "execute_result"
    }
   ],
   "source": [
    "type(b)"
   ]
  },
  {
   "cell_type": "code",
   "execution_count": 7,
   "id": "cc94722a-c4b4-4499-84cd-19c85d7834db",
   "metadata": {},
   "outputs": [
    {
     "data": {
      "text/plain": [
       "'heyy'"
      ]
     },
     "execution_count": 7,
     "metadata": {},
     "output_type": "execute_result"
    }
   ],
   "source": [
    "b"
   ]
  },
  {
   "cell_type": "code",
   "execution_count": 9,
   "id": "04dfcd82-dc0c-4def-a608-a06d7d92eeb5",
   "metadata": {},
   "outputs": [
    {
     "data": {
      "text/plain": [
       "'Heyy'"
      ]
     },
     "execution_count": 9,
     "metadata": {},
     "output_type": "execute_result"
    }
   ],
   "source": [
    "b.capitalize()"
   ]
  },
  {
   "cell_type": "code",
   "execution_count": 12,
   "id": "d02bdfa9-7e58-48be-acf7-6cab9aecea4b",
   "metadata": {},
   "outputs": [
    {
     "data": {
      "text/plain": [
       "1"
      ]
     },
     "execution_count": 12,
     "metadata": {},
     "output_type": "execute_result"
    }
   ],
   "source": [
    "b.rfind('e')"
   ]
  },
  {
   "cell_type": "code",
   "execution_count": 13,
   "id": "836167e9-1ad9-4ea6-83ef-0c6e02613e99",
   "metadata": {},
   "outputs": [],
   "source": [
    "c =' lol'"
   ]
  },
  {
   "cell_type": "code",
   "execution_count": 14,
   "id": "6cb24814-8304-4916-a14e-3c9e02083f66",
   "metadata": {},
   "outputs": [
    {
     "name": "stdout",
     "output_type": "stream",
     "text": [
      "heyy lol\n"
     ]
    }
   ],
   "source": [
    "print(b+c)"
   ]
  },
  {
   "cell_type": "code",
   "execution_count": 16,
   "id": "951885e6-d800-452e-bd3d-54e8790ade9c",
   "metadata": {},
   "outputs": [
    {
     "name": "stdout",
     "output_type": "stream",
     "text": [
      "3\n"
     ]
    }
   ],
   "source": [
    "print(a+2)"
   ]
  },
  {
   "cell_type": "raw",
   "id": "ab6bba58-8eb8-4e71-a3af-e611949fd678",
   "metadata": {},
   "source": []
  },
  {
   "cell_type": "code",
   "execution_count": 17,
   "id": "906e6a44-b4de-407b-a8b9-331c96f6ab7a",
   "metadata": {},
   "outputs": [
    {
     "ename": "TypeError",
     "evalue": "unsupported operand type(s) for +: 'int' and 'str'",
     "output_type": "error",
     "traceback": [
      "\u001b[0;31m---------------------------------------------------------------------------\u001b[0m",
      "\u001b[0;31mTypeError\u001b[0m                                 Traceback (most recent call last)",
      "Input \u001b[0;32mIn [17]\u001b[0m, in \u001b[0;36m<cell line: 1>\u001b[0;34m()\u001b[0m\n\u001b[0;32m----> 1\u001b[0m \u001b[38;5;28mprint\u001b[39m(\u001b[43ma\u001b[49m\u001b[38;5;241;43m+\u001b[39;49m\u001b[43mb\u001b[49m)\n",
      "\u001b[0;31mTypeError\u001b[0m: unsupported operand type(s) for +: 'int' and 'str'"
     ]
    }
   ],
   "source": [
    "print(a+b)"
   ]
  },
  {
   "cell_type": "markdown",
   "id": "23d93874-7a36-47ff-9b43-082dcbb48676",
   "metadata": {},
   "source": [
    "Math"
   ]
  },
  {
   "cell_type": "code",
   "execution_count": 18,
   "id": "78391f4a-90a6-4016-a205-4f340e1a11e6",
   "metadata": {},
   "outputs": [
    {
     "data": {
      "text/plain": [
       "-3"
      ]
     },
     "execution_count": 18,
     "metadata": {},
     "output_type": "execute_result"
    }
   ],
   "source": [
    "1+1-5"
   ]
  },
  {
   "cell_type": "code",
   "execution_count": 19,
   "id": "2f6da56a-fdbf-42a2-bcce-0dc6285da5ba",
   "metadata": {},
   "outputs": [
    {
     "data": {
      "text/plain": [
       "0.5"
      ]
     },
     "execution_count": 19,
     "metadata": {},
     "output_type": "execute_result"
    }
   ],
   "source": [
    "1/2"
   ]
  },
  {
   "cell_type": "code",
   "execution_count": 20,
   "id": "bc3e466a-7785-4c18-afa0-994be86fe2ce",
   "metadata": {},
   "outputs": [],
   "source": [
    "d = 1/2"
   ]
  },
  {
   "cell_type": "code",
   "execution_count": 21,
   "id": "a4cfcf58-6cb8-4c8a-8e78-b64768805398",
   "metadata": {},
   "outputs": [
    {
     "data": {
      "text/plain": [
       "0.5"
      ]
     },
     "execution_count": 21,
     "metadata": {},
     "output_type": "execute_result"
    }
   ],
   "source": [
    "d"
   ]
  },
  {
   "cell_type": "code",
   "execution_count": 22,
   "id": "a50b491a-4ad4-4c07-8126-0913db435bc5",
   "metadata": {},
   "outputs": [
    {
     "data": {
      "text/plain": [
       "float"
      ]
     },
     "execution_count": 22,
     "metadata": {},
     "output_type": "execute_result"
    }
   ],
   "source": [
    "type(d)"
   ]
  },
  {
   "cell_type": "code",
   "execution_count": 23,
   "id": "9de010db-b4f7-463e-9313-67e44d6be8a6",
   "metadata": {},
   "outputs": [
    {
     "data": {
      "text/plain": [
       "4"
      ]
     },
     "execution_count": 23,
     "metadata": {},
     "output_type": "execute_result"
    }
   ],
   "source": [
    "2**2"
   ]
  },
  {
   "cell_type": "code",
   "execution_count": 24,
   "id": "6b7ef840-c3b6-490d-b49d-d0368fb25a5f",
   "metadata": {},
   "outputs": [
    {
     "data": {
      "text/plain": [
       "1"
      ]
     },
     "execution_count": 24,
     "metadata": {},
     "output_type": "execute_result"
    }
   ],
   "source": [
    "round(9/10)"
   ]
  },
  {
   "cell_type": "code",
   "execution_count": 25,
   "id": "3e75990c-887d-4b81-a308-1ea9ee2e5ab0",
   "metadata": {},
   "outputs": [
    {
     "data": {
      "text/plain": [
       "int"
      ]
     },
     "execution_count": 25,
     "metadata": {},
     "output_type": "execute_result"
    }
   ],
   "source": [
    "type(round(9/10))"
   ]
  },
  {
   "cell_type": "code",
   "execution_count": 26,
   "id": "efb08f2f-2c5c-459b-902b-fa536346604e",
   "metadata": {},
   "outputs": [
    {
     "data": {
      "text/plain": [
       "float"
      ]
     },
     "execution_count": 26,
     "metadata": {},
     "output_type": "execute_result"
    }
   ],
   "source": [
    "type(9/10)"
   ]
  },
  {
   "cell_type": "code",
   "execution_count": 27,
   "id": "cda10ff3-cb52-4e63-b438-4b5f997f59d8",
   "metadata": {},
   "outputs": [
    {
     "data": {
      "text/plain": [
       "(-0.2+0.4j)"
      ]
     },
     "execution_count": 27,
     "metadata": {},
     "output_type": "execute_result"
    }
   ],
   "source": [
    "(1+2j)/(3-4j)"
   ]
  },
  {
   "cell_type": "code",
   "execution_count": 28,
   "id": "599280b5-302b-412f-8b36-5bfb485befc8",
   "metadata": {},
   "outputs": [
    {
     "data": {
      "text/plain": [
       "True"
      ]
     },
     "execution_count": 28,
     "metadata": {},
     "output_type": "execute_result"
    }
   ],
   "source": [
    "True and True"
   ]
  },
  {
   "cell_type": "code",
   "execution_count": 29,
   "id": "2645c17e-7a70-4f60-9cd9-ddad573f133c",
   "metadata": {},
   "outputs": [
    {
     "data": {
      "text/plain": [
       "False"
      ]
     },
     "execution_count": 29,
     "metadata": {},
     "output_type": "execute_result"
    }
   ],
   "source": [
    "True and False"
   ]
  },
  {
   "cell_type": "markdown",
   "id": "961d24ab-885f-482f-a99e-4dbfe5a4fb0e",
   "metadata": {},
   "source": [
    "Conditionals"
   ]
  },
  {
   "cell_type": "code",
   "execution_count": 34,
   "id": "351e27a1-6d84-427d-bd7a-8483550a766f",
   "metadata": {},
   "outputs": [
    {
     "name": "stdout",
     "output_type": "stream",
     "text": [
      "Positive Number\n"
     ]
    }
   ],
   "source": [
    "x =100\n",
    "if x>0:\n",
    "    print('Positive Number')\n",
    "elif x<0:\n",
    "    print('Negative Number')\n",
    "else:\n",
    "    print('zero')"
   ]
  },
  {
   "cell_type": "code",
   "execution_count": 33,
   "id": "cbf339e5-9e65-4752-bfe2-259d005d7f4d",
   "metadata": {},
   "outputs": [
    {
     "name": "stdout",
     "output_type": "stream",
     "text": [
      "Variable   Type     Data/Info\n",
      "-----------------------------\n",
      "a          int      1\n",
      "b          str      heyy\n",
      "c          str       lol\n",
      "d          float    0.5\n",
      "x          int      100\n"
     ]
    }
   ],
   "source": [
    "whos"
   ]
  },
  {
   "cell_type": "code",
   "execution_count": 39,
   "id": "2ec47801-33df-41bf-a66b-4285509f92c7",
   "metadata": {},
   "outputs": [],
   "source": [
    "x =0"
   ]
  },
  {
   "cell_type": "code",
   "execution_count": 40,
   "id": "35d49896-5d3d-4b4c-803f-0f1a67fe6412",
   "metadata": {},
   "outputs": [
    {
     "name": "stdout",
     "output_type": "stream",
     "text": [
      "Done\n"
     ]
    }
   ],
   "source": [
    "if x >0:\n",
    "    print('Positive number')\n",
    "    if x>100:\n",
    "        print('Large Number')\n",
    "print('Done')"
   ]
  },
  {
   "cell_type": "code",
   "execution_count": 41,
   "id": "f3fad31d-f4b3-49a3-a823-cd7cd7167602",
   "metadata": {},
   "outputs": [],
   "source": [
    "#more Flow Control"
   ]
  },
  {
   "cell_type": "code",
   "execution_count": 47,
   "id": "3f84252f-e2b6-4954-8bc6-557629595ff2",
   "metadata": {},
   "outputs": [
    {
     "name": "stdout",
     "output_type": "stream",
     "text": [
      "10\n"
     ]
    }
   ],
   "source": [
    "count = 0\n",
    "while count<10:\n",
    "    count = count+1\n",
    "    #count += 1\n",
    "print (count)"
   ]
  },
  {
   "cell_type": "code",
   "execution_count": 46,
   "id": "3aff792c-0ddb-4fd2-9666-58b97f895d24",
   "metadata": {},
   "outputs": [
    {
     "name": "stdout",
     "output_type": "stream",
     "text": [
      "0\n",
      "1\n",
      "2\n",
      "3\n",
      "4\n"
     ]
    }
   ],
   "source": [
    "for i in range(5):\n",
    "    print(i)"
   ]
  },
  {
   "cell_type": "code",
   "execution_count": 48,
   "id": "30c15301-1045-4a5d-b082-10aa0a72b5ac",
   "metadata": {},
   "outputs": [
    {
     "data": {
      "text/plain": [
       "range(0, 5)"
      ]
     },
     "execution_count": 48,
     "metadata": {},
     "output_type": "execute_result"
    }
   ],
   "source": [
    "range (5)"
   ]
  },
  {
   "cell_type": "code",
   "execution_count": 49,
   "id": "171e0d12-f08d-44c2-86ad-110f1f269286",
   "metadata": {},
   "outputs": [
    {
     "data": {
      "text/plain": [
       "[0, 1, 2, 3, 4]"
      ]
     },
     "execution_count": 49,
     "metadata": {},
     "output_type": "execute_result"
    }
   ],
   "source": [
    "list(range(5))"
   ]
  },
  {
   "cell_type": "code",
   "execution_count": 50,
   "id": "521631d2-e52d-45ef-a0d3-134d349e948a",
   "metadata": {},
   "outputs": [
    {
     "data": {
      "text/plain": [
       "\u001b[0;31mInit signature:\u001b[0m \u001b[0mrange\u001b[0m\u001b[0;34m(\u001b[0m\u001b[0mself\u001b[0m\u001b[0;34m,\u001b[0m \u001b[0;34m/\u001b[0m\u001b[0;34m,\u001b[0m \u001b[0;34m*\u001b[0m\u001b[0margs\u001b[0m\u001b[0;34m,\u001b[0m \u001b[0;34m**\u001b[0m\u001b[0mkwargs\u001b[0m\u001b[0;34m)\u001b[0m\u001b[0;34m\u001b[0m\u001b[0;34m\u001b[0m\u001b[0m\n",
       "\u001b[0;31mDocstring:\u001b[0m     \n",
       "range(stop) -> range object\n",
       "range(start, stop[, step]) -> range object\n",
       "\n",
       "Return an object that produces a sequence of integers from start (inclusive)\n",
       "to stop (exclusive) by step.  range(i, j) produces i, i+1, i+2, ..., j-1.\n",
       "start defaults to 0, and stop is omitted!  range(4) produces 0, 1, 2, 3.\n",
       "These are exactly the valid indices for a list of 4 elements.\n",
       "When step is given, it specifies the increment (or decrement).\n",
       "\u001b[0;31mType:\u001b[0m           type\n",
       "\u001b[0;31mSubclasses:\u001b[0m     \n"
      ]
     },
     "metadata": {},
     "output_type": "display_data"
    }
   ],
   "source": [
    "range?"
   ]
  },
  {
   "cell_type": "code",
   "execution_count": 51,
   "id": "c99e2e6e-3dcb-4dc4-976e-afe5ec4fcc3e",
   "metadata": {},
   "outputs": [
    {
     "data": {
      "text/plain": [
       "[4, 5]"
      ]
     },
     "execution_count": 51,
     "metadata": {},
     "output_type": "execute_result"
    }
   ],
   "source": [
    "list(range(4,6))"
   ]
  },
  {
   "cell_type": "markdown",
   "id": "6c89a2df-6e12-4915-8f45-7a8b4ae60d2c",
   "metadata": {},
   "source": [
    "#Lists"
   ]
  },
  {
   "cell_type": "code",
   "execution_count": 53,
   "id": "4e6f846a-0a6f-4302-ac06-2d8f97cf1f56",
   "metadata": {},
   "outputs": [],
   "source": [
    "l = ['dog','cat','duck']"
   ]
  },
  {
   "cell_type": "code",
   "execution_count": 54,
   "id": "5796ebf3-e4d3-4bdd-ae85-ad1c9aaa902e",
   "metadata": {},
   "outputs": [
    {
     "data": {
      "text/plain": [
       "['dog', 'cat', 'duck']"
      ]
     },
     "execution_count": 54,
     "metadata": {},
     "output_type": "execute_result"
    }
   ],
   "source": [
    "l"
   ]
  },
  {
   "cell_type": "code",
   "execution_count": 57,
   "id": "d645746c-794b-4c53-9472-aecd897fb226",
   "metadata": {},
   "outputs": [
    {
     "data": {
      "text/plain": [
       "['cat', 'dog', 'duck']"
      ]
     },
     "execution_count": 57,
     "metadata": {},
     "output_type": "execute_result"
    }
   ],
   "source": [
    "l.sort()\n",
    "l"
   ]
  },
  {
   "cell_type": "code",
   "execution_count": 58,
   "id": "49d4bd2e-320c-4c25-a9f0-0edf3658060f",
   "metadata": {},
   "outputs": [],
   "source": [
    "l.append('snake')"
   ]
  },
  {
   "cell_type": "code",
   "execution_count": 59,
   "id": "78531426-4945-47a7-9a50-6b6b52d0ca77",
   "metadata": {},
   "outputs": [
    {
     "data": {
      "text/plain": [
       "['cat', 'dog', 'duck', 'snake']"
      ]
     },
     "execution_count": 59,
     "metadata": {},
     "output_type": "execute_result"
    }
   ],
   "source": [
    "l"
   ]
  },
  {
   "cell_type": "code",
   "execution_count": 60,
   "id": "0203aa26-78ef-410a-a4f4-31acd364f261",
   "metadata": {},
   "outputs": [],
   "source": [
    "l.append(5)"
   ]
  },
  {
   "cell_type": "code",
   "execution_count": 61,
   "id": "b70cebc0-36c6-4221-b837-67da62167905",
   "metadata": {},
   "outputs": [
    {
     "data": {
      "text/plain": [
       "['cat', 'dog', 'duck', 'snake', 5]"
      ]
     },
     "execution_count": 61,
     "metadata": {},
     "output_type": "execute_result"
    }
   ],
   "source": [
    "l"
   ]
  },
  {
   "cell_type": "code",
   "execution_count": 62,
   "id": "3c5389b0-954f-4371-b8ff-9998f3545fea",
   "metadata": {},
   "outputs": [
    {
     "data": {
      "text/plain": [
       "[0, 1, 2, 3, 4, 10, 11, 12, 13, 14]"
      ]
     },
     "execution_count": 62,
     "metadata": {},
     "output_type": "execute_result"
    }
   ],
   "source": [
    "x = list(range(5))\n",
    "y = list(range(10,15))\n",
    "z = x+y\n",
    "z"
   ]
  },
  {
   "cell_type": "code",
   "execution_count": 63,
   "id": "8aed8ea1-e3af-4d64-85c7-55b0b910fe30",
   "metadata": {},
   "outputs": [
    {
     "data": {
      "text/plain": [
       "0"
      ]
     },
     "execution_count": 63,
     "metadata": {},
     "output_type": "execute_result"
    }
   ],
   "source": [
    "a = int(9/10)\n",
    "a"
   ]
  },
  {
   "cell_type": "code",
   "execution_count": 64,
   "id": "701568c6-e02a-40b2-8366-aa0c03d12dc0",
   "metadata": {},
   "outputs": [],
   "source": [
    "a = float(round(9/10))"
   ]
  },
  {
   "cell_type": "code",
   "execution_count": 65,
   "id": "7266d0b4-2b41-4dd3-adf1-27e3520af3e9",
   "metadata": {},
   "outputs": [
    {
     "data": {
      "text/plain": [
       "1.0"
      ]
     },
     "execution_count": 65,
     "metadata": {},
     "output_type": "execute_result"
    }
   ],
   "source": [
    "a"
   ]
  },
  {
   "cell_type": "markdown",
   "id": "f1ef5004-f71e-4c51-a525-9132343e78bf",
   "metadata": {},
   "source": [
    "## Tuples"
   ]
  },
  {
   "cell_type": "code",
   "execution_count": 1,
   "id": "9bd83b63-2ba3-4095-b4ea-65c1615cc974",
   "metadata": {},
   "outputs": [
    {
     "data": {
      "text/plain": [
       "('Tim', 26, True)"
      ]
     },
     "execution_count": 1,
     "metadata": {},
     "output_type": "execute_result"
    }
   ],
   "source": [
    "a = ('Tim',26, True)\n",
    "a"
   ]
  },
  {
   "cell_type": "code",
   "execution_count": 3,
   "id": "01d628be-be25-457e-8ad6-96f660c76bff",
   "metadata": {},
   "outputs": [
    {
     "data": {
      "text/plain": [
       "tuple"
      ]
     },
     "execution_count": 3,
     "metadata": {},
     "output_type": "execute_result"
    }
   ],
   "source": [
    "type(a)"
   ]
  },
  {
   "cell_type": "code",
   "execution_count": 4,
   "id": "35f81032-5fcd-46f1-9336-80333255a96e",
   "metadata": {},
   "outputs": [
    {
     "data": {
      "text/plain": [
       "'Tim'"
      ]
     },
     "execution_count": 4,
     "metadata": {},
     "output_type": "execute_result"
    }
   ],
   "source": [
    "a[0]"
   ]
  },
  {
   "cell_type": "code",
   "execution_count": 5,
   "id": "e49f5af4-0e6a-49c2-9627-a9aab441b32b",
   "metadata": {},
   "outputs": [
    {
     "ename": "TypeError",
     "evalue": "'tuple' object does not support item assignment",
     "output_type": "error",
     "traceback": [
      "\u001b[0;31m---------------------------------------------------------------------------\u001b[0m",
      "\u001b[0;31mTypeError\u001b[0m                                 Traceback (most recent call last)",
      "Input \u001b[0;32mIn [5]\u001b[0m, in \u001b[0;36m<cell line: 1>\u001b[0;34m()\u001b[0m\n\u001b[0;32m----> 1\u001b[0m a[\u001b[38;5;241m0\u001b[39m] \u001b[38;5;241m=\u001b[39m\u001b[38;5;241m3\u001b[39m\n",
      "\u001b[0;31mTypeError\u001b[0m: 'tuple' object does not support item assignment"
     ]
    }
   ],
   "source": [
    "a[0] =3 #gives error cuz tuple cannot change the compnent inside"
   ]
  },
  {
   "cell_type": "code",
   "execution_count": 6,
   "id": "990238a7-3094-44a0-87dd-fb0bd51b695a",
   "metadata": {},
   "outputs": [
    {
     "data": {
      "text/plain": [
       "('Tim', 26, True)"
      ]
     },
     "execution_count": 6,
     "metadata": {},
     "output_type": "execute_result"
    }
   ],
   "source": [
    "a"
   ]
  },
  {
   "cell_type": "code",
   "execution_count": 8,
   "id": "e197f70c-d2db-4f6c-81d6-f8ffe369005e",
   "metadata": {},
   "outputs": [
    {
     "data": {
      "text/plain": [
       "'Tim'"
      ]
     },
     "execution_count": 8,
     "metadata": {},
     "output_type": "execute_result"
    }
   ],
   "source": [
    "name, age, status = a\n",
    "name"
   ]
  },
  {
   "cell_type": "code",
   "execution_count": 9,
   "id": "0a4aa0ad-ee6d-4b52-86b1-1b8c3bd7921b",
   "metadata": {},
   "outputs": [
    {
     "data": {
      "text/plain": [
       "'Tim'"
      ]
     },
     "execution_count": 9,
     "metadata": {},
     "output_type": "execute_result"
    }
   ],
   "source": [
    "name"
   ]
  },
  {
   "cell_type": "code",
   "execution_count": 11,
   "id": "3ed871f6-5f16-40bf-822b-23083e47950d",
   "metadata": {},
   "outputs": [
    {
     "data": {
      "text/plain": [
       "26"
      ]
     },
     "execution_count": 11,
     "metadata": {},
     "output_type": "execute_result"
    }
   ],
   "source": [
    "age"
   ]
  },
  {
   "cell_type": "code",
   "execution_count": 12,
   "id": "a5ceb3d6-b354-4b3a-b51d-43d454b8a612",
   "metadata": {},
   "outputs": [
    {
     "data": {
      "text/plain": [
       "True"
      ]
     },
     "execution_count": 12,
     "metadata": {},
     "output_type": "execute_result"
    }
   ],
   "source": [
    "status"
   ]
  },
  {
   "cell_type": "markdown",
   "id": "f079fbb7-3496-49ad-8fbb-e02a2de9f0f7",
   "metadata": {},
   "source": [
    "## Dictionaries"
   ]
  },
  {
   "cell_type": "code",
   "execution_count": 19,
   "id": "7e9e5dd0-4b17-4902-b33f-f4f94dca2bcf",
   "metadata": {},
   "outputs": [],
   "source": [
    "b = {'name':'Yuwei','age':23}"
   ]
  },
  {
   "cell_type": "code",
   "execution_count": 20,
   "id": "96ee68e2-7b2d-4c04-8526-a17b62213007",
   "metadata": {},
   "outputs": [],
   "source": [
    "e = dict(name = 'Yuwei',age = 25)"
   ]
  },
  {
   "cell_type": "code",
   "execution_count": 21,
   "id": "6a032c56-5f85-4333-a98f-d11c9e531cff",
   "metadata": {},
   "outputs": [
    {
     "data": {
      "text/plain": [
       "{'name': 'Yuwei', 'age': 25}"
      ]
     },
     "execution_count": 21,
     "metadata": {},
     "output_type": "execute_result"
    }
   ],
   "source": [
    "e"
   ]
  },
  {
   "cell_type": "code",
   "execution_count": 22,
   "id": "6567580d-2991-440f-a775-84c54e44cb89",
   "metadata": {},
   "outputs": [
    {
     "data": {
      "text/plain": [
       "'Yuwei'"
      ]
     },
     "execution_count": 22,
     "metadata": {},
     "output_type": "execute_result"
    }
   ],
   "source": [
    "b['name']"
   ]
  },
  {
   "cell_type": "code",
   "execution_count": 23,
   "id": "a4fcf9c1-3c7e-44ed-ae46-c5be1ca9f7ea",
   "metadata": {},
   "outputs": [
    {
     "name": "stdout",
     "output_type": "stream",
     "text": [
      "True\n"
     ]
    }
   ],
   "source": [
    "print('age' in b)"
   ]
  },
  {
   "cell_type": "code",
   "execution_count": 24,
   "id": "b3438d99-5d44-48da-94b1-e6376a11b636",
   "metadata": {},
   "outputs": [
    {
     "name": "stdout",
     "output_type": "stream",
     "text": [
      "False\n"
     ]
    }
   ],
   "source": [
    "print('height' in b)"
   ]
  },
  {
   "cell_type": "code",
   "execution_count": 25,
   "id": "306a96d7-a7d2-4647-aae4-287251b73a2d",
   "metadata": {},
   "outputs": [],
   "source": [
    "b['height']=(5,4)"
   ]
  },
  {
   "cell_type": "code",
   "execution_count": 26,
   "id": "f4e45ac8-774f-4f7e-8685-b6e1c897b55a",
   "metadata": {},
   "outputs": [
    {
     "data": {
      "text/plain": [
       "{'name': 'Yuwei', 'age': 23, 'height': (5, 4)}"
      ]
     },
     "execution_count": 26,
     "metadata": {},
     "output_type": "execute_result"
    }
   ],
   "source": [
    "b"
   ]
  },
  {
   "cell_type": "code",
   "execution_count": 27,
   "id": "9b57ba1f-a6e5-470e-9755-db89ca5f72fb",
   "metadata": {},
   "outputs": [],
   "source": [
    "b[99] = 'ninty nine'"
   ]
  },
  {
   "cell_type": "code",
   "execution_count": 28,
   "id": "8233b586-0454-474a-980c-2ca8105efd18",
   "metadata": {},
   "outputs": [
    {
     "data": {
      "text/plain": [
       "{'name': 'Yuwei', 'age': 23, 'height': (5, 4), 99: 'ninty nine'}"
      ]
     },
     "execution_count": 28,
     "metadata": {},
     "output_type": "execute_result"
    }
   ],
   "source": [
    "b"
   ]
  },
  {
   "cell_type": "code",
   "execution_count": 30,
   "id": "f1ca1648-dda0-407d-9f75-b615b383d6cc",
   "metadata": {},
   "outputs": [
    {
     "name": "stdout",
     "output_type": "stream",
     "text": [
      "name Yuwei\n",
      "age 23\n",
      "height (5, 4)\n",
      "99 ninty nine\n"
     ]
    }
   ],
   "source": [
    "for k in b:\n",
    "    print(k, b[k])"
   ]
  },
  {
   "cell_type": "code",
   "execution_count": 31,
   "id": "3e6adb16-5f96-4f77-999c-665120f536da",
   "metadata": {},
   "outputs": [
    {
     "name": "stdout",
     "output_type": "stream",
     "text": [
      "name Yuwei\n",
      "age 23\n",
      "height (5, 4)\n",
      "99 ninty nine\n"
     ]
    }
   ],
   "source": [
    "for key, val in b.items():\n",
    "    print(key, val)"
   ]
  },
  {
   "cell_type": "markdown",
   "id": "5d10a8d8-6fce-4b3c-baf3-02250792ffe0",
   "metadata": {},
   "source": [
    "# Python Functions (and classes)"
   ]
  },
  {
   "cell_type": "markdown",
   "id": "9df6bd12-f7a7-4946-822d-11217c7afe60",
   "metadata": {},
   "source": [
    "## Functions"
   ]
  },
  {
   "cell_type": "code",
   "execution_count": 32,
   "id": "fe002efe-0e94-4520-a894-b2e6ec275d95",
   "metadata": {},
   "outputs": [],
   "source": [
    "def say_hello():\n",
    "    \"\"\"Return the word Hello.\"\"\"\n",
    "    return 'Hello'"
   ]
  },
  {
   "cell_type": "code",
   "execution_count": 33,
   "id": "9ea8c1a3-5cd4-446a-be76-26fb9df77238",
   "metadata": {},
   "outputs": [
    {
     "name": "stdout",
     "output_type": "stream",
     "text": [
      "Variable    Type        Data/Info\n",
      "---------------------------------\n",
      "a           tuple       n=3\n",
      "age         int         26\n",
      "b           dict        n=4\n",
      "e           dict        n=2\n",
      "k           int         99\n",
      "key         int         99\n",
      "name        str         Tim\n",
      "say_hello   function    <function say_hello at 0x7fabb2073040>\n",
      "status      bool        True\n",
      "val         str         ninty nine\n"
     ]
    }
   ],
   "source": [
    "whos"
   ]
  },
  {
   "cell_type": "code",
   "execution_count": 34,
   "id": "1fac9358-7504-498b-9947-a02e44a6ae9f",
   "metadata": {},
   "outputs": [
    {
     "data": {
      "text/plain": [
       "function"
      ]
     },
     "execution_count": 34,
     "metadata": {},
     "output_type": "execute_result"
    }
   ],
   "source": [
    "type(say_hello)"
   ]
  },
  {
   "cell_type": "code",
   "execution_count": 35,
   "id": "8afd07f1-0460-4b82-bb02-07110949ea3b",
   "metadata": {},
   "outputs": [
    {
     "data": {
      "text/plain": [
       "\u001b[0;31mSignature:\u001b[0m \u001b[0msay_hello\u001b[0m\u001b[0;34m(\u001b[0m\u001b[0;34m)\u001b[0m\u001b[0;34m\u001b[0m\u001b[0;34m\u001b[0m\u001b[0m\n",
       "\u001b[0;31mDocstring:\u001b[0m Return the word Hello.\n",
       "\u001b[0;31mFile:\u001b[0m      /tmp/ipykernel_5025/2405835090.py\n",
       "\u001b[0;31mType:\u001b[0m      function\n"
      ]
     },
     "metadata": {},
     "output_type": "display_data"
    }
   ],
   "source": [
    "say_hello?"
   ]
  },
  {
   "cell_type": "code",
   "execution_count": 36,
   "id": "49d2ee73-b46e-423d-9243-2048304e4d1c",
   "metadata": {},
   "outputs": [
    {
     "data": {
      "text/plain": [
       "'Hello'"
      ]
     },
     "execution_count": 36,
     "metadata": {},
     "output_type": "execute_result"
    }
   ],
   "source": [
    "say_hello()"
   ]
  },
  {
   "cell_type": "code",
   "execution_count": 45,
   "id": "abb5f86c-2964-4f0e-abc6-ec2474eb85d3",
   "metadata": {},
   "outputs": [],
   "source": [
    "def say_hello_to(name):\n",
    "    \"\"\" Return a greeting to a name.\"\"\"\n",
    "    return \"Hello \" + name + \"!\""
   ]
  },
  {
   "cell_type": "code",
   "execution_count": 46,
   "id": "d4a0b3a9-f674-46b7-95ea-e4b25b1a4b79",
   "metadata": {},
   "outputs": [
    {
     "data": {
      "text/plain": [
       "'Hello cat!'"
      ]
     },
     "execution_count": 46,
     "metadata": {},
     "output_type": "execute_result"
    }
   ],
   "source": [
    "say_hello_to('cat')"
   ]
  },
  {
   "cell_type": "code",
   "execution_count": 47,
   "id": "da60074a-5efd-4614-b357-c74d78a9111c",
   "metadata": {},
   "outputs": [
    {
     "data": {
      "text/plain": [
       "'Hello world!'"
      ]
     },
     "execution_count": 47,
     "metadata": {},
     "output_type": "execute_result"
    }
   ],
   "source": [
    "say_hello_to('world')"
   ]
  },
  {
   "cell_type": "code",
   "execution_count": 48,
   "id": "8ed4de29-73ce-485e-977d-ba6b7ee28fae",
   "metadata": {},
   "outputs": [
    {
     "ename": "TypeError",
     "evalue": "can only concatenate str (not \"int\") to str",
     "output_type": "error",
     "traceback": [
      "\u001b[0;31m---------------------------------------------------------------------------\u001b[0m",
      "\u001b[0;31mTypeError\u001b[0m                                 Traceback (most recent call last)",
      "Input \u001b[0;32mIn [48]\u001b[0m, in \u001b[0;36m<cell line: 1>\u001b[0;34m()\u001b[0m\n\u001b[0;32m----> 1\u001b[0m \u001b[43msay_hello_to\u001b[49m\u001b[43m(\u001b[49m\u001b[38;5;241;43m10\u001b[39;49m\u001b[43m)\u001b[49m\n",
      "Input \u001b[0;32mIn [45]\u001b[0m, in \u001b[0;36msay_hello_to\u001b[0;34m(name)\u001b[0m\n\u001b[1;32m      1\u001b[0m \u001b[38;5;28;01mdef\u001b[39;00m \u001b[38;5;21msay_hello_to\u001b[39m(name):\n\u001b[1;32m      2\u001b[0m     \u001b[38;5;124;03m\"\"\" Return a greeting to a name.\"\"\"\u001b[39;00m\n\u001b[0;32m----> 3\u001b[0m     \u001b[38;5;28;01mreturn\u001b[39;00m \u001b[38;5;124;43m\"\u001b[39;49m\u001b[38;5;124;43mHello \u001b[39;49m\u001b[38;5;124;43m\"\u001b[39;49m\u001b[43m \u001b[49m\u001b[38;5;241;43m+\u001b[39;49m\u001b[43m \u001b[49m\u001b[43mname\u001b[49m \u001b[38;5;241m+\u001b[39m \u001b[38;5;124m\"\u001b[39m\u001b[38;5;124m!\u001b[39m\u001b[38;5;124m\"\u001b[39m\n",
      "\u001b[0;31mTypeError\u001b[0m: can only concatenate str (not \"int\") to str"
     ]
    }
   ],
   "source": [
    "say_hello_to(10)"
   ]
  },
  {
   "cell_type": "code",
   "execution_count": 49,
   "id": "3877d8d4-d250-4925-b885-d9e7c2e6b9f8",
   "metadata": {},
   "outputs": [],
   "source": [
    "def say_hello_to2(name):\n",
    "    \"\"\" Return a greeting to a name.\"\"\"\n",
    "    return \"Hello \" + str(name) + \"!\""
   ]
  },
  {
   "cell_type": "code",
   "execution_count": 50,
   "id": "26ae1d16-af7b-4e06-9b0a-fc30bbca81bd",
   "metadata": {},
   "outputs": [
    {
     "data": {
      "text/plain": [
       "'Hello 10!'"
      ]
     },
     "execution_count": 50,
     "metadata": {},
     "output_type": "execute_result"
    }
   ],
   "source": [
    "say_hello_to2(10)"
   ]
  },
  {
   "cell_type": "code",
   "execution_count": 56,
   "id": "984225cb-3016-449b-99e6-a6be53c70795",
   "metadata": {},
   "outputs": [],
   "source": [
    "def say_hello_or_hola(name, spanish=False):\n",
    "    if spanish: \n",
    "        greeting = 'hola '\n",
    "    else:\n",
    "        greeting = 'Hello '\n",
    "    return greeting + name"
   ]
  },
  {
   "cell_type": "code",
   "execution_count": 59,
   "id": "1b02bb69-f88c-46ca-b35f-8fb09da9d5b2",
   "metadata": {},
   "outputs": [
    {
     "data": {
      "text/plain": [
       "'hola Yuwei'"
      ]
     },
     "execution_count": 59,
     "metadata": {},
     "output_type": "execute_result"
    }
   ],
   "source": [
    "say_hello_or_hola('Tim')\n",
    "say_hello_or_hola('Yuwei', spanish = True)"
   ]
  },
  {
   "cell_type": "code",
   "execution_count": 64,
   "id": "2bbf1cab-d83b-4982-b6e4-a58a71b89f93",
   "metadata": {},
   "outputs": [],
   "source": [
    "def say_hello_to_everyone(*args):\n",
    "    return ['Hello ' + str(a) for a in args]"
   ]
  },
  {
   "cell_type": "code",
   "execution_count": 65,
   "id": "e0513459-041f-48c8-96c6-31881dbf7862",
   "metadata": {},
   "outputs": [
    {
     "data": {
      "text/plain": [
       "['Hello Tim', 'Hello Yuwei', 'Hello Kat']"
      ]
     },
     "execution_count": 65,
     "metadata": {},
     "output_type": "execute_result"
    }
   ],
   "source": [
    "say_hello_to_everyone('Tim','Yuwei','Kat')"
   ]
  },
  {
   "cell_type": "markdown",
   "id": "835e9d30-b2e5-46f1-8013-0f85edfbfdff",
   "metadata": {},
   "source": [
    "# Namespaces"
   ]
  },
  {
   "cell_type": "code",
   "execution_count": 68,
   "id": "ff00f77c-6b81-4bf1-8de9-c2c84e5214d7",
   "metadata": {},
   "outputs": [],
   "source": [
    "name = 'Tim'\n",
    "def print_name():\n",
    "    print(name)\n",
    "    \n",
    "def print_another_name():\n",
    "    name = 'Yuwei'\n",
    "    print(name)"
   ]
  },
  {
   "cell_type": "code",
   "execution_count": 69,
   "id": "e35de7dd-8780-4a80-9cbb-a52e54bb4c25",
   "metadata": {},
   "outputs": [
    {
     "name": "stdout",
     "output_type": "stream",
     "text": [
      "Tim\n"
     ]
    }
   ],
   "source": [
    "print(name)"
   ]
  },
  {
   "cell_type": "code",
   "execution_count": 70,
   "id": "b7910f3b-ef43-4bc5-a2f4-fea779810e71",
   "metadata": {},
   "outputs": [
    {
     "name": "stdout",
     "output_type": "stream",
     "text": [
      "Yuwei\n"
     ]
    }
   ],
   "source": [
    "print_another_name()"
   ]
  },
  {
   "cell_type": "code",
   "execution_count": 71,
   "id": "1f250a15-b095-4a89-9a32-47975e88e72e",
   "metadata": {},
   "outputs": [
    {
     "name": "stdout",
     "output_type": "stream",
     "text": [
      "Tim\n"
     ]
    }
   ],
   "source": [
    "print(name) # name inside a function has nothing to do the name outside the fucntion, they are separate"
   ]
  },
  {
   "cell_type": "markdown",
   "id": "a27a8565-05b7-4a6c-8fbd-b62099f7a2c2",
   "metadata": {},
   "source": [
    "Fibonacci Sequence"
   ]
  },
  {
   "cell_type": "code",
   "execution_count": 74,
   "id": "81baa2db-be40-46f7-ad59-3e56cc2a2a44",
   "metadata": {},
   "outputs": [],
   "source": [
    "def fib(n):\n",
    "    l = [1,1]\n",
    "    print(list(range(n-2)))\n",
    "    for i in range(n-2):\n",
    "        l.append(l[-1]+l[-2])\n",
    "    return l"
   ]
  },
  {
   "cell_type": "code",
   "execution_count": 75,
   "id": "4cd93a46-be35-4eb0-8d1e-aeb7ba573dd7",
   "metadata": {},
   "outputs": [
    {
     "name": "stdout",
     "output_type": "stream",
     "text": [
      "[0, 1, 2, 3, 4, 5, 6, 7]\n"
     ]
    },
    {
     "data": {
      "text/plain": [
       "[1, 1, 2, 3, 5, 8, 13, 21, 34, 55]"
      ]
     },
     "execution_count": 75,
     "metadata": {},
     "output_type": "execute_result"
    }
   ],
   "source": [
    "fib(10)"
   ]
  },
  {
   "cell_type": "markdown",
   "id": "544e434a-a7da-454e-955d-2186f1e32bb4",
   "metadata": {},
   "source": [
    "# Classes"
   ]
  },
  {
   "cell_type": "code",
   "execution_count": 81,
   "id": "e618238a-2c6d-46b9-bd1a-a304d5e9c8dc",
   "metadata": {},
   "outputs": [],
   "source": [
    "class Hurricane:\n",
    "\n",
    "    def __init__(self, name):\n",
    "        self.name = name"
   ]
  },
  {
   "cell_type": "code",
   "execution_count": 82,
   "id": "55ebaf5a-e24a-45b1-a08e-25fad3bfb83c",
   "metadata": {},
   "outputs": [],
   "source": [
    "h = Hurricane('tim')"
   ]
  },
  {
   "cell_type": "code",
   "execution_count": 83,
   "id": "f9d188a3-0949-4189-857e-1a272bd5b8ca",
   "metadata": {},
   "outputs": [
    {
     "data": {
      "text/plain": [
       "<__main__.Hurricane at 0x7fabb1ba8250>"
      ]
     },
     "execution_count": 83,
     "metadata": {},
     "output_type": "execute_result"
    }
   ],
   "source": [
    "h"
   ]
  },
  {
   "cell_type": "code",
   "execution_count": 84,
   "id": "6175b3b0-8b08-4bb1-b64a-10be98265391",
   "metadata": {},
   "outputs": [
    {
     "data": {
      "text/plain": [
       "\u001b[0;31mType:\u001b[0m        Hurricane\n",
       "\u001b[0;31mString form:\u001b[0m <__main__.Hurricane object at 0x7fabb1ba8250>\n",
       "\u001b[0;31mDocstring:\u001b[0m   <no docstring>\n"
      ]
     },
     "metadata": {},
     "output_type": "display_data"
    }
   ],
   "source": [
    "h?"
   ]
  },
  {
   "cell_type": "code",
   "execution_count": 85,
   "id": "17192217-e752-491c-9016-f49841116ced",
   "metadata": {},
   "outputs": [
    {
     "data": {
      "text/plain": [
       "['__class__',\n",
       " '__delattr__',\n",
       " '__dict__',\n",
       " '__dir__',\n",
       " '__doc__',\n",
       " '__eq__',\n",
       " '__format__',\n",
       " '__ge__',\n",
       " '__getattribute__',\n",
       " '__gt__',\n",
       " '__hash__',\n",
       " '__init__',\n",
       " '__init_subclass__',\n",
       " '__le__',\n",
       " '__lt__',\n",
       " '__module__',\n",
       " '__ne__',\n",
       " '__new__',\n",
       " '__reduce__',\n",
       " '__reduce_ex__',\n",
       " '__repr__',\n",
       " '__setattr__',\n",
       " '__sizeof__',\n",
       " '__str__',\n",
       " '__subclasshook__',\n",
       " '__weakref__',\n",
       " 'name']"
      ]
     },
     "execution_count": 85,
     "metadata": {},
     "output_type": "execute_result"
    }
   ],
   "source": [
    "dir(h)"
   ]
  },
  {
   "cell_type": "markdown",
   "id": "74bf6471-4012-4a96-93fb-6ef2ee1f5a3d",
   "metadata": {},
   "source": [
    "# Numpy and Matplotlib"
   ]
  },
  {
   "cell_type": "code",
   "execution_count": 1,
   "id": "8351f7f1-b98b-43de-b1b5-aa8eb7463b49",
   "metadata": {},
   "outputs": [],
   "source": [
    "import numpy as np"
   ]
  },
  {
   "cell_type": "code",
   "execution_count": 2,
   "id": "86d116a8-bae3-4326-9b1a-fac0c8246e83",
   "metadata": {},
   "outputs": [
    {
     "name": "stdout",
     "output_type": "stream",
     "text": [
      "Variable   Type      Data/Info\n",
      "------------------------------\n",
      "np         module    <module 'numpy' from '/sr<...>kages/numpy/__init__.py'>\n"
     ]
    }
   ],
   "source": [
    "whos"
   ]
  },
  {
   "cell_type": "code",
   "execution_count": 4,
   "id": "3c79314a-5e75-4724-9516-b69453bf130c",
   "metadata": {},
   "outputs": [
    {
     "data": {
      "text/plain": [
       "['ALLOW_THREADS',\n",
       " 'AxisError',\n",
       " 'BUFSIZE',\n",
       " 'CLIP',\n",
       " 'ComplexWarning',\n",
       " 'DataSource',\n",
       " 'ERR_CALL',\n",
       " 'ERR_DEFAULT',\n",
       " 'ERR_IGNORE',\n",
       " 'ERR_LOG',\n",
       " 'ERR_PRINT',\n",
       " 'ERR_RAISE',\n",
       " 'ERR_WARN',\n",
       " 'FLOATING_POINT_SUPPORT',\n",
       " 'FPE_DIVIDEBYZERO',\n",
       " 'FPE_INVALID',\n",
       " 'FPE_OVERFLOW',\n",
       " 'FPE_UNDERFLOW',\n",
       " 'False_',\n",
       " 'Inf',\n",
       " 'Infinity',\n",
       " 'MAXDIMS',\n",
       " 'MAY_SHARE_BOUNDS',\n",
       " 'MAY_SHARE_EXACT',\n",
       " 'ModuleDeprecationWarning',\n",
       " 'NAN',\n",
       " 'NINF',\n",
       " 'NZERO',\n",
       " 'NaN',\n",
       " 'PINF',\n",
       " 'PZERO',\n",
       " 'RAISE',\n",
       " 'RankWarning',\n",
       " 'SHIFT_DIVIDEBYZERO',\n",
       " 'SHIFT_INVALID',\n",
       " 'SHIFT_OVERFLOW',\n",
       " 'SHIFT_UNDERFLOW',\n",
       " 'ScalarType',\n",
       " 'Tester',\n",
       " 'TooHardError',\n",
       " 'True_',\n",
       " 'UFUNC_BUFSIZE_DEFAULT',\n",
       " 'UFUNC_PYVALS_NAME',\n",
       " 'VisibleDeprecationWarning',\n",
       " 'WRAP',\n",
       " '_CopyMode',\n",
       " '_NoValue',\n",
       " '_UFUNC_API',\n",
       " '__NUMPY_SETUP__',\n",
       " '__all__',\n",
       " '__builtins__',\n",
       " '__cached__',\n",
       " '__config__',\n",
       " '__deprecated_attrs__',\n",
       " '__dir__',\n",
       " '__doc__',\n",
       " '__expired_functions__',\n",
       " '__file__',\n",
       " '__getattr__',\n",
       " '__git_version__',\n",
       " '__loader__',\n",
       " '__name__',\n",
       " '__package__',\n",
       " '__path__',\n",
       " '__spec__',\n",
       " '__version__',\n",
       " '_add_newdoc_ufunc',\n",
       " '_distributor_init',\n",
       " '_financial_names',\n",
       " '_from_dlpack',\n",
       " '_globals',\n",
       " '_mat',\n",
       " '_pytesttester',\n",
       " '_version',\n",
       " 'abs',\n",
       " 'absolute',\n",
       " 'add',\n",
       " 'add_docstring',\n",
       " 'add_newdoc',\n",
       " 'add_newdoc_ufunc',\n",
       " 'alen',\n",
       " 'all',\n",
       " 'allclose',\n",
       " 'alltrue',\n",
       " 'amax',\n",
       " 'amin',\n",
       " 'angle',\n",
       " 'any',\n",
       " 'append',\n",
       " 'apply_along_axis',\n",
       " 'apply_over_axes',\n",
       " 'arange',\n",
       " 'arccos',\n",
       " 'arccosh',\n",
       " 'arcsin',\n",
       " 'arcsinh',\n",
       " 'arctan',\n",
       " 'arctan2',\n",
       " 'arctanh',\n",
       " 'argmax',\n",
       " 'argmin',\n",
       " 'argpartition',\n",
       " 'argsort',\n",
       " 'argwhere',\n",
       " 'around',\n",
       " 'array',\n",
       " 'array2string',\n",
       " 'array_equal',\n",
       " 'array_equiv',\n",
       " 'array_repr',\n",
       " 'array_split',\n",
       " 'array_str',\n",
       " 'asanyarray',\n",
       " 'asarray',\n",
       " 'asarray_chkfinite',\n",
       " 'ascontiguousarray',\n",
       " 'asfarray',\n",
       " 'asfortranarray',\n",
       " 'asmatrix',\n",
       " 'asscalar',\n",
       " 'atleast_1d',\n",
       " 'atleast_2d',\n",
       " 'atleast_3d',\n",
       " 'average',\n",
       " 'bartlett',\n",
       " 'base_repr',\n",
       " 'binary_repr',\n",
       " 'bincount',\n",
       " 'bitwise_and',\n",
       " 'bitwise_not',\n",
       " 'bitwise_or',\n",
       " 'bitwise_xor',\n",
       " 'blackman',\n",
       " 'block',\n",
       " 'bmat',\n",
       " 'bool8',\n",
       " 'bool_',\n",
       " 'broadcast',\n",
       " 'broadcast_arrays',\n",
       " 'broadcast_shapes',\n",
       " 'broadcast_to',\n",
       " 'busday_count',\n",
       " 'busday_offset',\n",
       " 'busdaycalendar',\n",
       " 'byte',\n",
       " 'byte_bounds',\n",
       " 'bytes0',\n",
       " 'bytes_',\n",
       " 'c_',\n",
       " 'can_cast',\n",
       " 'cast',\n",
       " 'cbrt',\n",
       " 'cdouble',\n",
       " 'ceil',\n",
       " 'cfloat',\n",
       " 'char',\n",
       " 'character',\n",
       " 'chararray',\n",
       " 'choose',\n",
       " 'clip',\n",
       " 'clongdouble',\n",
       " 'clongfloat',\n",
       " 'column_stack',\n",
       " 'common_type',\n",
       " 'compare_chararrays',\n",
       " 'compat',\n",
       " 'complex128',\n",
       " 'complex256',\n",
       " 'complex64',\n",
       " 'complex_',\n",
       " 'complexfloating',\n",
       " 'compress',\n",
       " 'concatenate',\n",
       " 'conj',\n",
       " 'conjugate',\n",
       " 'convolve',\n",
       " 'copy',\n",
       " 'copysign',\n",
       " 'copyto',\n",
       " 'core',\n",
       " 'corrcoef',\n",
       " 'correlate',\n",
       " 'cos',\n",
       " 'cosh',\n",
       " 'count_nonzero',\n",
       " 'cov',\n",
       " 'cross',\n",
       " 'csingle',\n",
       " 'ctypeslib',\n",
       " 'cumprod',\n",
       " 'cumproduct',\n",
       " 'cumsum',\n",
       " 'datetime64',\n",
       " 'datetime_as_string',\n",
       " 'datetime_data',\n",
       " 'deg2rad',\n",
       " 'degrees',\n",
       " 'delete',\n",
       " 'deprecate',\n",
       " 'deprecate_with_doc',\n",
       " 'diag',\n",
       " 'diag_indices',\n",
       " 'diag_indices_from',\n",
       " 'diagflat',\n",
       " 'diagonal',\n",
       " 'diff',\n",
       " 'digitize',\n",
       " 'disp',\n",
       " 'divide',\n",
       " 'divmod',\n",
       " 'dot',\n",
       " 'double',\n",
       " 'dsplit',\n",
       " 'dstack',\n",
       " 'dtype',\n",
       " 'e',\n",
       " 'ediff1d',\n",
       " 'einsum',\n",
       " 'einsum_path',\n",
       " 'emath',\n",
       " 'empty',\n",
       " 'empty_like',\n",
       " 'equal',\n",
       " 'errstate',\n",
       " 'euler_gamma',\n",
       " 'exp',\n",
       " 'exp2',\n",
       " 'expand_dims',\n",
       " 'expm1',\n",
       " 'extract',\n",
       " 'eye',\n",
       " 'fabs',\n",
       " 'fastCopyAndTranspose',\n",
       " 'fft',\n",
       " 'fill_diagonal',\n",
       " 'find_common_type',\n",
       " 'finfo',\n",
       " 'fix',\n",
       " 'flatiter',\n",
       " 'flatnonzero',\n",
       " 'flexible',\n",
       " 'flip',\n",
       " 'fliplr',\n",
       " 'flipud',\n",
       " 'float128',\n",
       " 'float16',\n",
       " 'float32',\n",
       " 'float64',\n",
       " 'float_',\n",
       " 'float_power',\n",
       " 'floating',\n",
       " 'floor',\n",
       " 'floor_divide',\n",
       " 'fmax',\n",
       " 'fmin',\n",
       " 'fmod',\n",
       " 'format_float_positional',\n",
       " 'format_float_scientific',\n",
       " 'format_parser',\n",
       " 'frexp',\n",
       " 'frombuffer',\n",
       " 'fromfile',\n",
       " 'fromfunction',\n",
       " 'fromiter',\n",
       " 'frompyfunc',\n",
       " 'fromregex',\n",
       " 'fromstring',\n",
       " 'full',\n",
       " 'full_like',\n",
       " 'gcd',\n",
       " 'generic',\n",
       " 'genfromtxt',\n",
       " 'geomspace',\n",
       " 'get_array_wrap',\n",
       " 'get_include',\n",
       " 'get_printoptions',\n",
       " 'getbufsize',\n",
       " 'geterr',\n",
       " 'geterrcall',\n",
       " 'geterrobj',\n",
       " 'gradient',\n",
       " 'greater',\n",
       " 'greater_equal',\n",
       " 'half',\n",
       " 'hamming',\n",
       " 'hanning',\n",
       " 'heaviside',\n",
       " 'histogram',\n",
       " 'histogram2d',\n",
       " 'histogram_bin_edges',\n",
       " 'histogramdd',\n",
       " 'hsplit',\n",
       " 'hstack',\n",
       " 'hypot',\n",
       " 'i0',\n",
       " 'identity',\n",
       " 'iinfo',\n",
       " 'imag',\n",
       " 'in1d',\n",
       " 'index_exp',\n",
       " 'indices',\n",
       " 'inexact',\n",
       " 'inf',\n",
       " 'info',\n",
       " 'infty',\n",
       " 'inner',\n",
       " 'insert',\n",
       " 'int0',\n",
       " 'int16',\n",
       " 'int32',\n",
       " 'int64',\n",
       " 'int8',\n",
       " 'int_',\n",
       " 'intc',\n",
       " 'integer',\n",
       " 'interp',\n",
       " 'intersect1d',\n",
       " 'intp',\n",
       " 'invert',\n",
       " 'is_busday',\n",
       " 'isclose',\n",
       " 'iscomplex',\n",
       " 'iscomplexobj',\n",
       " 'isfinite',\n",
       " 'isfortran',\n",
       " 'isin',\n",
       " 'isinf',\n",
       " 'isnan',\n",
       " 'isnat',\n",
       " 'isneginf',\n",
       " 'isposinf',\n",
       " 'isreal',\n",
       " 'isrealobj',\n",
       " 'isscalar',\n",
       " 'issctype',\n",
       " 'issubclass_',\n",
       " 'issubdtype',\n",
       " 'issubsctype',\n",
       " 'iterable',\n",
       " 'ix_',\n",
       " 'kaiser',\n",
       " 'kernel_version',\n",
       " 'kron',\n",
       " 'lcm',\n",
       " 'ldexp',\n",
       " 'left_shift',\n",
       " 'less',\n",
       " 'less_equal',\n",
       " 'lexsort',\n",
       " 'lib',\n",
       " 'linalg',\n",
       " 'linspace',\n",
       " 'little_endian',\n",
       " 'load',\n",
       " 'loadtxt',\n",
       " 'log',\n",
       " 'log10',\n",
       " 'log1p',\n",
       " 'log2',\n",
       " 'logaddexp',\n",
       " 'logaddexp2',\n",
       " 'logical_and',\n",
       " 'logical_not',\n",
       " 'logical_or',\n",
       " 'logical_xor',\n",
       " 'logspace',\n",
       " 'longcomplex',\n",
       " 'longdouble',\n",
       " 'longfloat',\n",
       " 'longlong',\n",
       " 'lookfor',\n",
       " 'ma',\n",
       " 'mask_indices',\n",
       " 'mat',\n",
       " 'math',\n",
       " 'matmul',\n",
       " 'matrix',\n",
       " 'matrixlib',\n",
       " 'max',\n",
       " 'maximum',\n",
       " 'maximum_sctype',\n",
       " 'may_share_memory',\n",
       " 'mean',\n",
       " 'median',\n",
       " 'memmap',\n",
       " 'meshgrid',\n",
       " 'mgrid',\n",
       " 'min',\n",
       " 'min_scalar_type',\n",
       " 'minimum',\n",
       " 'mintypecode',\n",
       " 'mod',\n",
       " 'modf',\n",
       " 'moveaxis',\n",
       " 'msort',\n",
       " 'multiply',\n",
       " 'nan',\n",
       " 'nan_to_num',\n",
       " 'nanargmax',\n",
       " 'nanargmin',\n",
       " 'nancumprod',\n",
       " 'nancumsum',\n",
       " 'nanmax',\n",
       " 'nanmean',\n",
       " 'nanmedian',\n",
       " 'nanmin',\n",
       " 'nanpercentile',\n",
       " 'nanprod',\n",
       " 'nanquantile',\n",
       " 'nanstd',\n",
       " 'nansum',\n",
       " 'nanvar',\n",
       " 'nbytes',\n",
       " 'ndarray',\n",
       " 'ndenumerate',\n",
       " 'ndim',\n",
       " 'ndindex',\n",
       " 'nditer',\n",
       " 'negative',\n",
       " 'nested_iters',\n",
       " 'newaxis',\n",
       " 'nextafter',\n",
       " 'nonzero',\n",
       " 'not_equal',\n",
       " 'numarray',\n",
       " 'number',\n",
       " 'obj2sctype',\n",
       " 'object0',\n",
       " 'object_',\n",
       " 'ogrid',\n",
       " 'oldnumeric',\n",
       " 'ones',\n",
       " 'ones_like',\n",
       " 'os',\n",
       " 'outer',\n",
       " 'packbits',\n",
       " 'pad',\n",
       " 'partition',\n",
       " 'percentile',\n",
       " 'pi',\n",
       " 'piecewise',\n",
       " 'place',\n",
       " 'poly',\n",
       " 'poly1d',\n",
       " 'polyadd',\n",
       " 'polyder',\n",
       " 'polydiv',\n",
       " 'polyfit',\n",
       " 'polyint',\n",
       " 'polymul',\n",
       " 'polynomial',\n",
       " 'polysub',\n",
       " 'polyval',\n",
       " 'positive',\n",
       " 'power',\n",
       " 'printoptions',\n",
       " 'prod',\n",
       " 'product',\n",
       " 'promote_types',\n",
       " 'ptp',\n",
       " 'put',\n",
       " 'put_along_axis',\n",
       " 'putmask',\n",
       " 'quantile',\n",
       " 'r_',\n",
       " 'rad2deg',\n",
       " 'radians',\n",
       " 'random',\n",
       " 'ravel',\n",
       " 'ravel_multi_index',\n",
       " 'real',\n",
       " 'real_if_close',\n",
       " 'rec',\n",
       " 'recarray',\n",
       " 'recfromcsv',\n",
       " 'recfromtxt',\n",
       " 'reciprocal',\n",
       " 'record',\n",
       " 'remainder',\n",
       " 'repeat',\n",
       " 'require',\n",
       " 'reshape',\n",
       " 'resize',\n",
       " 'result_type',\n",
       " 'right_shift',\n",
       " 'rint',\n",
       " 'roll',\n",
       " 'rollaxis',\n",
       " 'roots',\n",
       " 'rot90',\n",
       " 'round',\n",
       " 'round_',\n",
       " 'row_stack',\n",
       " 's_',\n",
       " 'safe_eval',\n",
       " 'save',\n",
       " 'savetxt',\n",
       " 'savez',\n",
       " 'savez_compressed',\n",
       " 'sctype2char',\n",
       " 'sctypeDict',\n",
       " 'sctypes',\n",
       " 'searchsorted',\n",
       " 'select',\n",
       " 'set_numeric_ops',\n",
       " 'set_printoptions',\n",
       " 'set_string_function',\n",
       " 'setbufsize',\n",
       " 'setdiff1d',\n",
       " 'seterr',\n",
       " 'seterrcall',\n",
       " 'seterrobj',\n",
       " 'setxor1d',\n",
       " 'shape',\n",
       " 'shares_memory',\n",
       " 'short',\n",
       " 'show_config',\n",
       " 'sign',\n",
       " 'signbit',\n",
       " 'signedinteger',\n",
       " 'sin',\n",
       " 'sinc',\n",
       " 'single',\n",
       " 'singlecomplex',\n",
       " 'sinh',\n",
       " 'size',\n",
       " 'sometrue',\n",
       " 'sort',\n",
       " 'sort_complex',\n",
       " 'source',\n",
       " 'spacing',\n",
       " 'split',\n",
       " 'sqrt',\n",
       " 'square',\n",
       " 'squeeze',\n",
       " 'stack',\n",
       " 'std',\n",
       " 'str0',\n",
       " 'str_',\n",
       " 'string_',\n",
       " 'subtract',\n",
       " 'sum',\n",
       " 'swapaxes',\n",
       " 'sys',\n",
       " 'take',\n",
       " 'take_along_axis',\n",
       " 'tan',\n",
       " 'tanh',\n",
       " 'tensordot',\n",
       " 'test',\n",
       " 'testing',\n",
       " 'tile',\n",
       " 'timedelta64',\n",
       " 'trace',\n",
       " 'tracemalloc_domain',\n",
       " 'transpose',\n",
       " 'trapz',\n",
       " 'tri',\n",
       " 'tril',\n",
       " 'tril_indices',\n",
       " 'tril_indices_from',\n",
       " 'trim_zeros',\n",
       " 'triu',\n",
       " 'triu_indices',\n",
       " 'triu_indices_from',\n",
       " 'true_divide',\n",
       " 'trunc',\n",
       " 'typecodes',\n",
       " 'typename',\n",
       " 'ubyte',\n",
       " 'ufunc',\n",
       " 'uint',\n",
       " 'uint0',\n",
       " 'uint16',\n",
       " 'uint32',\n",
       " 'uint64',\n",
       " 'uint8',\n",
       " 'uintc',\n",
       " 'uintp',\n",
       " 'ulonglong',\n",
       " 'unicode_',\n",
       " 'union1d',\n",
       " 'unique',\n",
       " 'unpackbits',\n",
       " 'unravel_index',\n",
       " 'unsignedinteger',\n",
       " 'unwrap',\n",
       " 'use_hugepage',\n",
       " 'ushort',\n",
       " 'vander',\n",
       " 'var',\n",
       " 'vdot',\n",
       " 'vectorize',\n",
       " 'version',\n",
       " 'void',\n",
       " 'void0',\n",
       " 'vsplit',\n",
       " 'vstack',\n",
       " 'warnings',\n",
       " 'where',\n",
       " 'who',\n",
       " 'zeros',\n",
       " 'zeros_like']"
      ]
     },
     "execution_count": 4,
     "metadata": {},
     "output_type": "execute_result"
    }
   ],
   "source": [
    "dir(np)"
   ]
  },
  {
   "cell_type": "markdown",
   "id": "3cd4890e-33c9-4d5b-8b41-0a19851bfa41",
   "metadata": {},
   "source": [
    "# NDArrays"
   ]
  },
  {
   "cell_type": "code",
   "execution_count": 7,
   "id": "f589b624-128e-4ae0-9796-7855c0be5f47",
   "metadata": {},
   "outputs": [],
   "source": [
    "a = np.array([9,0,2,1,0])"
   ]
  },
  {
   "cell_type": "code",
   "execution_count": 8,
   "id": "0868d2f6-ae4e-4e79-9f18-0a8c17ca8fab",
   "metadata": {},
   "outputs": [
    {
     "data": {
      "text/plain": [
       "array([9, 0, 2, 1, 0])"
      ]
     },
     "execution_count": 8,
     "metadata": {},
     "output_type": "execute_result"
    }
   ],
   "source": [
    "a"
   ]
  },
  {
   "cell_type": "code",
   "execution_count": 9,
   "id": "ad9c6bed-c9a4-4b86-a88d-18977e3f3891",
   "metadata": {},
   "outputs": [
    {
     "data": {
      "text/plain": [
       "numpy.ndarray"
      ]
     },
     "execution_count": 9,
     "metadata": {},
     "output_type": "execute_result"
    }
   ],
   "source": [
    "type(a)"
   ]
  },
  {
   "cell_type": "code",
   "execution_count": 10,
   "id": "d356fbaa-96b6-4dae-bb77-184bff0b19b9",
   "metadata": {},
   "outputs": [
    {
     "data": {
      "text/plain": [
       "(5,)"
      ]
     },
     "execution_count": 10,
     "metadata": {},
     "output_type": "execute_result"
    }
   ],
   "source": [
    "a.shape"
   ]
  },
  {
   "cell_type": "code",
   "execution_count": 11,
   "id": "d45cf2f3-8432-426c-acf0-f0d54eb7e383",
   "metadata": {},
   "outputs": [
    {
     "ename": "TypeError",
     "evalue": "'tuple' object is not callable",
     "output_type": "error",
     "traceback": [
      "\u001b[0;31m---------------------------------------------------------------------------\u001b[0m",
      "\u001b[0;31mTypeError\u001b[0m                                 Traceback (most recent call last)",
      "Input \u001b[0;32mIn [11]\u001b[0m, in \u001b[0;36m<cell line: 1>\u001b[0;34m()\u001b[0m\n\u001b[0;32m----> 1\u001b[0m \u001b[43ma\u001b[49m\u001b[38;5;241;43m.\u001b[39;49m\u001b[43mshape\u001b[49m\u001b[43m(\u001b[49m\u001b[43m)\u001b[49m\n",
      "\u001b[0;31mTypeError\u001b[0m: 'tuple' object is not callable"
     ]
    }
   ],
   "source": [
    "a.shape()#a. Tab"
   ]
  },
  {
   "cell_type": "code",
   "execution_count": 12,
   "id": "81160705-42a0-4d28-80e0-7783b0e69822",
   "metadata": {},
   "outputs": [
    {
     "data": {
      "text/plain": [
       "0"
      ]
     },
     "execution_count": 12,
     "metadata": {},
     "output_type": "execute_result"
    }
   ],
   "source": [
    "a[1]"
   ]
  },
  {
   "cell_type": "code",
   "execution_count": 13,
   "id": "4601f55e-adb1-4cc3-a853-464b24d9cd30",
   "metadata": {},
   "outputs": [
    {
     "data": {
      "text/plain": [
       "numpy.int64"
      ]
     },
     "execution_count": 13,
     "metadata": {},
     "output_type": "execute_result"
    }
   ],
   "source": [
    "type(a[0])"
   ]
  },
  {
   "cell_type": "code",
   "execution_count": 15,
   "id": "f9156bd6-bfc9-4f91-bec6-f98c4eae48a5",
   "metadata": {},
   "outputs": [],
   "source": [
    "b = np.array([[5,3,1,0],[2,2,3,4]],dtype=np.float64)"
   ]
  },
  {
   "cell_type": "code",
   "execution_count": 16,
   "id": "ac64cbc9-87e2-4b2a-9cc7-62b7889c1e16",
   "metadata": {},
   "outputs": [
    {
     "data": {
      "text/plain": [
       "array([[5., 3., 1., 0.],\n",
       "       [2., 2., 3., 4.]])"
      ]
     },
     "execution_count": 16,
     "metadata": {},
     "output_type": "execute_result"
    }
   ],
   "source": [
    "b"
   ]
  },
  {
   "cell_type": "code",
   "execution_count": 17,
   "id": "68822d15-6df5-4183-a899-f56b857fa83d",
   "metadata": {},
   "outputs": [
    {
     "data": {
      "text/plain": [
       "(2, 4)"
      ]
     },
     "execution_count": 17,
     "metadata": {},
     "output_type": "execute_result"
    }
   ],
   "source": [
    "b.shape"
   ]
  },
  {
   "cell_type": "code",
   "execution_count": 22,
   "id": "57c4f669-e2df-427f-ada5-5c9fb0a9fc14",
   "metadata": {},
   "outputs": [
    {
     "data": {
      "text/plain": [
       "numpy.float64"
      ]
     },
     "execution_count": 22,
     "metadata": {},
     "output_type": "execute_result"
    }
   ],
   "source": [
    "type(b[1,2])"
   ]
  },
  {
   "cell_type": "markdown",
   "id": "f5fc67b7-9103-4104-bf5b-2dfc12fb69ac",
   "metadata": {},
   "source": [
    "# Array Creation"
   ]
  },
  {
   "cell_type": "code",
   "execution_count": 23,
   "id": "1a6edb4d-5c6c-4611-8207-5e1dea10ba5c",
   "metadata": {},
   "outputs": [
    {
     "data": {
      "text/plain": [
       "array([[0., 0., 0., 0., 0., 0., 0., 0., 0.],\n",
       "       [0., 0., 0., 0., 0., 0., 0., 0., 0.],\n",
       "       [0., 0., 0., 0., 0., 0., 0., 0., 0.],\n",
       "       [0., 0., 0., 0., 0., 0., 0., 0., 0.],\n",
       "       [0., 0., 0., 0., 0., 0., 0., 0., 0.],\n",
       "       [0., 0., 0., 0., 0., 0., 0., 0., 0.],\n",
       "       [0., 0., 0., 0., 0., 0., 0., 0., 0.],\n",
       "       [0., 0., 0., 0., 0., 0., 0., 0., 0.],\n",
       "       [0., 0., 0., 0., 0., 0., 0., 0., 0.]])"
      ]
     },
     "execution_count": 23,
     "metadata": {},
     "output_type": "execute_result"
    }
   ],
   "source": [
    "c = np.zeros((9,9))\n",
    "c"
   ]
  },
  {
   "cell_type": "code",
   "execution_count": 36,
   "id": "ebc7c9a0-87b1-4657-a474-17bca1295fb4",
   "metadata": {},
   "outputs": [
    {
     "data": {
      "text/plain": [
       "array([[[1.+0.j, 1.+0.j, 1.+0.j],\n",
       "        [1.+0.j, 1.+0.j, 1.+0.j],\n",
       "        [1.+0.j, 1.+0.j, 1.+0.j],\n",
       "        [1.+0.j, 1.+0.j, 1.+0.j],\n",
       "        [1.+0.j, 1.+0.j, 1.+0.j],\n",
       "        [1.+0.j, 1.+0.j, 1.+0.j]],\n",
       "\n",
       "       [[1.+0.j, 1.+0.j, 1.+0.j],\n",
       "        [1.+0.j, 1.+0.j, 1.+0.j],\n",
       "        [1.+0.j, 1.+0.j, 1.+0.j],\n",
       "        [1.+0.j, 1.+0.j, 1.+0.j],\n",
       "        [1.+0.j, 1.+0.j, 1.+0.j],\n",
       "        [1.+0.j, 1.+0.j, 1.+0.j]],\n",
       "\n",
       "       [[1.+0.j, 1.+0.j, 1.+0.j],\n",
       "        [1.+0.j, 1.+0.j, 1.+0.j],\n",
       "        [1.+0.j, 1.+0.j, 1.+0.j],\n",
       "        [1.+0.j, 1.+0.j, 1.+0.j],\n",
       "        [1.+0.j, 1.+0.j, 1.+0.j],\n",
       "        [1.+0.j, 1.+0.j, 1.+0.j]]])"
      ]
     },
     "execution_count": 36,
     "metadata": {},
     "output_type": "execute_result"
    }
   ],
   "source": [
    "d = np.ones((3,6,3),dtype = np.complex128)\n",
    "d"
   ]
  },
  {
   "cell_type": "code",
   "execution_count": 31,
   "id": "5d59a9d4-5126-4202-8f87-8356d33f8d30",
   "metadata": {},
   "outputs": [
    {
     "data": {
      "text/plain": [
       "array([[3.14159265, 3.14159265, 3.14159265],\n",
       "       [3.14159265, 3.14159265, 3.14159265],\n",
       "       [3.14159265, 3.14159265, 3.14159265]])"
      ]
     },
     "execution_count": 31,
     "metadata": {},
     "output_type": "execute_result"
    }
   ],
   "source": [
    "e = np.full((3,3), np.pi)\n",
    "e"
   ]
  },
  {
   "cell_type": "code",
   "execution_count": 29,
   "id": "5956952a-ccdc-4766-a217-cc1cd7542292",
   "metadata": {},
   "outputs": [
    {
     "data": {
      "text/plain": [
       "numpy.float64"
      ]
     },
     "execution_count": 29,
     "metadata": {},
     "output_type": "execute_result"
    }
   ],
   "source": [
    "type(e[0,0])"
   ]
  },
  {
   "cell_type": "code",
   "execution_count": 34,
   "id": "609d6138-2d6a-4e4a-94c8-3cac1652c346",
   "metadata": {},
   "outputs": [
    {
     "data": {
      "text/plain": [
       "array([[[1.+0.j, 1.+0.j, 1.+0.j],\n",
       "        [1.+0.j, 1.+0.j, 1.+0.j],\n",
       "        [1.+0.j, 1.+0.j, 1.+0.j],\n",
       "        [1.+0.j, 1.+0.j, 1.+0.j],\n",
       "        [1.+0.j, 1.+0.j, 1.+0.j],\n",
       "        [1.+0.j, 1.+0.j, 1.+0.j]],\n",
       "\n",
       "       [[1.+0.j, 1.+0.j, 1.+0.j],\n",
       "        [1.+0.j, 1.+0.j, 1.+0.j],\n",
       "        [1.+0.j, 1.+0.j, 1.+0.j],\n",
       "        [1.+0.j, 1.+0.j, 1.+0.j],\n",
       "        [1.+0.j, 1.+0.j, 1.+0.j],\n",
       "        [1.+0.j, 1.+0.j, 1.+0.j]],\n",
       "\n",
       "       [[1.+0.j, 1.+0.j, 1.+0.j],\n",
       "        [1.+0.j, 1.+0.j, 1.+0.j],\n",
       "        [1.+0.j, 1.+0.j, 1.+0.j],\n",
       "        [1.+0.j, 1.+0.j, 1.+0.j],\n",
       "        [1.+0.j, 1.+0.j, 1.+0.j],\n",
       "        [1.+0.j, 1.+0.j, 1.+0.j]]])"
      ]
     },
     "execution_count": 34,
     "metadata": {},
     "output_type": "execute_result"
    }
   ],
   "source": [
    "f = np.ones_like(d)\n",
    "f"
   ]
  },
  {
   "cell_type": "code",
   "execution_count": 38,
   "id": "9ea732a0-a8e1-404a-9791-37c9a4eaebb4",
   "metadata": {},
   "outputs": [
    {
     "data": {
      "text/plain": [
       "array([0, 1, 2, 3, 4, 5, 6, 7, 8, 9])"
      ]
     },
     "execution_count": 38,
     "metadata": {},
     "output_type": "execute_result"
    }
   ],
   "source": [
    "np.arange(10)"
   ]
  },
  {
   "cell_type": "code",
   "execution_count": 39,
   "id": "9b59dff8-335b-4915-991e-86ac9c732201",
   "metadata": {},
   "outputs": [
    {
     "data": {
      "text/plain": [
       "array([2.  , 2.25, 2.5 , 2.75, 3.  , 3.25, 3.5 , 3.75])"
      ]
     },
     "execution_count": 39,
     "metadata": {},
     "output_type": "execute_result"
    }
   ],
   "source": [
    "np.arange(2,4,0.25)"
   ]
  },
  {
   "cell_type": "code",
   "execution_count": 41,
   "id": "81e91edb-c7a0-43b0-8520-29934736bb5e",
   "metadata": {},
   "outputs": [
    {
     "data": {
      "text/plain": [
       "array([2.        , 2.10526316, 2.21052632, 2.31578947, 2.42105263,\n",
       "       2.52631579, 2.63157895, 2.73684211, 2.84210526, 2.94736842,\n",
       "       3.05263158, 3.15789474, 3.26315789, 3.36842105, 3.47368421,\n",
       "       3.57894737, 3.68421053, 3.78947368, 3.89473684, 4.        ])"
      ]
     },
     "execution_count": 41,
     "metadata": {},
     "output_type": "execute_result"
    }
   ],
   "source": [
    "g = np.linspace(2,4,20)\n",
    "g"
   ]
  },
  {
   "cell_type": "code",
   "execution_count": 42,
   "id": "83bd0b52-6a55-4770-bc17-74e725a2715c",
   "metadata": {},
   "outputs": [
    {
     "data": {
      "text/plain": [
       "(20,)"
      ]
     },
     "execution_count": 42,
     "metadata": {},
     "output_type": "execute_result"
    }
   ],
   "source": [
    "g.shape"
   ]
  },
  {
   "cell_type": "code",
   "execution_count": 43,
   "id": "50192208-bc21-4848-aaf6-bb0ea97ef408",
   "metadata": {},
   "outputs": [
    {
     "data": {
      "text/plain": [
       "array([ 10.        ,  12.91549665,  16.68100537,  21.5443469 ,\n",
       "        27.82559402,  35.93813664,  46.41588834,  59.94842503,\n",
       "        77.42636827, 100.        ])"
      ]
     },
     "execution_count": 43,
     "metadata": {},
     "output_type": "execute_result"
    }
   ],
   "source": [
    "np.logspace(1,2,10)"
   ]
  },
  {
   "cell_type": "code",
   "execution_count": 48,
   "id": "0932b453-dac7-4533-88bb-12fc83879da4",
   "metadata": {},
   "outputs": [],
   "source": [
    "import time"
   ]
  },
  {
   "cell_type": "code",
   "execution_count": 110,
   "id": "3d4e308e-3d4e-4c1c-ab6c-7d833537e366",
   "metadata": {},
   "outputs": [
    {
     "data": {
      "text/plain": [
       "(50, 100)"
      ]
     },
     "execution_count": 110,
     "metadata": {},
     "output_type": "execute_result"
    }
   ],
   "source": [
    "x = np.linspace(-2*np.pi,np.pi,100)\n",
    "y = np.linspace(-np.pi,np.pi,50)\n",
    "xx,yy = np.meshgrid(x,y)\n",
    "xx.shape"
   ]
  },
  {
   "cell_type": "code",
   "execution_count": 61,
   "id": "ca18eac8-e3b1-4776-aec1-fb5de79cf0e6",
   "metadata": {},
   "outputs": [
    {
     "data": {
      "text/plain": [
       "-6.283185307179586"
      ]
     },
     "execution_count": 61,
     "metadata": {},
     "output_type": "execute_result"
    }
   ],
   "source": [
    "xx[0,0]"
   ]
  },
  {
   "cell_type": "code",
   "execution_count": 62,
   "id": "ca859b59-c1e7-4380-884a-693d7c25c214",
   "metadata": {},
   "outputs": [
    {
     "data": {
      "text/plain": [
       "array([[-6.28318531, -6.15625227, -6.02931923, ...,  6.02931923,\n",
       "         6.15625227,  6.28318531],\n",
       "       [-6.28318531, -6.15625227, -6.02931923, ...,  6.02931923,\n",
       "         6.15625227,  6.28318531],\n",
       "       [-6.28318531, -6.15625227, -6.02931923, ...,  6.02931923,\n",
       "         6.15625227,  6.28318531],\n",
       "       ...,\n",
       "       [-6.28318531, -6.15625227, -6.02931923, ...,  6.02931923,\n",
       "         6.15625227,  6.28318531],\n",
       "       [-6.28318531, -6.15625227, -6.02931923, ...,  6.02931923,\n",
       "         6.15625227,  6.28318531],\n",
       "       [-6.28318531, -6.15625227, -6.02931923, ...,  6.02931923,\n",
       "         6.15625227,  6.28318531]])"
      ]
     },
     "execution_count": 62,
     "metadata": {},
     "output_type": "execute_result"
    }
   ],
   "source": [
    "xx"
   ]
  },
  {
   "cell_type": "code",
   "execution_count": 63,
   "id": "5fb17db2-5ab1-4214-b3cc-c318b7c1d55c",
   "metadata": {},
   "outputs": [
    {
     "data": {
      "text/plain": [
       "array([[-3.14159265, -3.14159265, -3.14159265, ..., -3.14159265,\n",
       "        -3.14159265, -3.14159265],\n",
       "       [-3.01336438, -3.01336438, -3.01336438, ..., -3.01336438,\n",
       "        -3.01336438, -3.01336438],\n",
       "       [-2.88513611, -2.88513611, -2.88513611, ..., -2.88513611,\n",
       "        -2.88513611, -2.88513611],\n",
       "       ...,\n",
       "       [ 2.88513611,  2.88513611,  2.88513611, ...,  2.88513611,\n",
       "         2.88513611,  2.88513611],\n",
       "       [ 3.01336438,  3.01336438,  3.01336438, ...,  3.01336438,\n",
       "         3.01336438,  3.01336438],\n",
       "       [ 3.14159265,  3.14159265,  3.14159265, ...,  3.14159265,\n",
       "         3.14159265,  3.14159265]])"
      ]
     },
     "execution_count": 63,
     "metadata": {},
     "output_type": "execute_result"
    }
   ],
   "source": [
    "yy"
   ]
  },
  {
   "cell_type": "code",
   "execution_count": 64,
   "id": "e9bd3001-a2c9-4b24-8be9-c263aae075d7",
   "metadata": {},
   "outputs": [
    {
     "data": {
      "text/plain": [
       "-5.267721015110158"
      ]
     },
     "execution_count": 64,
     "metadata": {},
     "output_type": "execute_result"
    }
   ],
   "source": [
    "xx[-3,8]"
   ]
  },
  {
   "cell_type": "markdown",
   "id": "8f890ee8-6262-4994-b114-e170b8d9cb33",
   "metadata": {},
   "source": [
    "# Index"
   ]
  },
  {
   "cell_type": "code",
   "execution_count": 65,
   "id": "3d84ea3a-3b35-43b2-ba4d-80fe0e775038",
   "metadata": {},
   "outputs": [
    {
     "data": {
      "text/plain": [
       "-5.267721015110158"
      ]
     },
     "execution_count": 65,
     "metadata": {},
     "output_type": "execute_result"
    }
   ],
   "source": [
    "xx[-3,8]"
   ]
  },
  {
   "cell_type": "code",
   "execution_count": 67,
   "id": "95ac3848-bdff-4724-a09b-31703be5c380",
   "metadata": {},
   "outputs": [
    {
     "data": {
      "text/plain": [
       "(100,)"
      ]
     },
     "execution_count": 67,
     "metadata": {},
     "output_type": "execute_result"
    }
   ],
   "source": [
    "xx[0].shape"
   ]
  },
  {
   "cell_type": "code",
   "execution_count": 68,
   "id": "dc36df0a-a2fb-4cdf-9dec-41678ffbbb0c",
   "metadata": {},
   "outputs": [
    {
     "data": {
      "text/plain": [
       "array([6.28318531, 6.28318531, 6.28318531, 6.28318531, 6.28318531,\n",
       "       6.28318531, 6.28318531, 6.28318531, 6.28318531, 6.28318531,\n",
       "       6.28318531, 6.28318531, 6.28318531, 6.28318531, 6.28318531,\n",
       "       6.28318531, 6.28318531, 6.28318531, 6.28318531, 6.28318531,\n",
       "       6.28318531, 6.28318531, 6.28318531, 6.28318531, 6.28318531,\n",
       "       6.28318531, 6.28318531, 6.28318531, 6.28318531, 6.28318531,\n",
       "       6.28318531, 6.28318531, 6.28318531, 6.28318531, 6.28318531,\n",
       "       6.28318531, 6.28318531, 6.28318531, 6.28318531, 6.28318531,\n",
       "       6.28318531, 6.28318531, 6.28318531, 6.28318531, 6.28318531,\n",
       "       6.28318531, 6.28318531, 6.28318531, 6.28318531, 6.28318531])"
      ]
     },
     "execution_count": 68,
     "metadata": {},
     "output_type": "execute_result"
    }
   ],
   "source": [
    "xx[:,-1]"
   ]
  },
  {
   "cell_type": "code",
   "execution_count": 70,
   "id": "eec29c56-a4c9-4ed2-813f-6ed1b35990f8",
   "metadata": {},
   "outputs": [
    {
     "data": {
      "text/plain": [
       "(7, 10)"
      ]
     },
     "execution_count": 70,
     "metadata": {},
     "output_type": "execute_result"
    }
   ],
   "source": [
    "xx[3:10, 30:40].shape"
   ]
  },
  {
   "cell_type": "code",
   "execution_count": 72,
   "id": "4a1910f7-3c7f-42ec-81ff-b4ae9f45d38e",
   "metadata": {},
   "outputs": [
    {
     "data": {
      "text/plain": [
       "array([[ True,  True,  True, ..., False, False, False],\n",
       "       [ True,  True,  True, ..., False, False, False],\n",
       "       [ True,  True,  True, ..., False, False, False],\n",
       "       ...,\n",
       "       [ True,  True,  True, ..., False, False, False],\n",
       "       [ True,  True,  True, ..., False, False, False],\n",
       "       [ True,  True,  True, ..., False, False, False]])"
      ]
     },
     "execution_count": 72,
     "metadata": {},
     "output_type": "execute_result"
    }
   ],
   "source": [
    "idx = xx<0\n",
    "idx"
   ]
  },
  {
   "cell_type": "code",
   "execution_count": 73,
   "id": "96450d10-17f2-433b-9c33-3a9b51f34a94",
   "metadata": {},
   "outputs": [
    {
     "data": {
      "text/plain": [
       "array([-3.14159265, -3.14159265, -3.14159265, ...,  3.14159265,\n",
       "        3.14159265,  3.14159265])"
      ]
     },
     "execution_count": 73,
     "metadata": {},
     "output_type": "execute_result"
    }
   ],
   "source": [
    "yy[idx]"
   ]
  },
  {
   "cell_type": "code",
   "execution_count": 74,
   "id": "62218d0f-0516-431b-b04b-9e137c5f5d2e",
   "metadata": {},
   "outputs": [
    {
     "data": {
      "text/plain": [
       "(5000,)"
      ]
     },
     "execution_count": 74,
     "metadata": {},
     "output_type": "execute_result"
    }
   ],
   "source": [
    "xx.ravel().shape"
   ]
  },
  {
   "cell_type": "code",
   "execution_count": 78,
   "id": "3b3f8b84-8330-4d55-a0f9-db569c475df1",
   "metadata": {},
   "outputs": [
    {
     "data": {
      "text/plain": [
       "array([[-3.14159265, -3.14159265, -3.14159265, ..., -3.14159265,\n",
       "        -3.14159265, -3.14159265],\n",
       "       [-3.01336438, -3.01336438, -3.01336438, ..., -3.01336438,\n",
       "        -3.01336438, -3.01336438],\n",
       "       [-2.88513611, -2.88513611, -2.88513611, ..., -2.88513611,\n",
       "        -2.88513611, -2.88513611],\n",
       "       ...,\n",
       "       [ 2.88513611,  2.88513611,  2.88513611, ...,  2.88513611,\n",
       "         2.88513611,  2.88513611],\n",
       "       [ 3.01336438,  3.01336438,  3.01336438, ...,  3.01336438,\n",
       "         3.01336438,  3.01336438],\n",
       "       [ 3.14159265,  3.14159265,  3.14159265, ...,  3.14159265,\n",
       "         3.14159265,  3.14159265]])"
      ]
     },
     "execution_count": 78,
     "metadata": {},
     "output_type": "execute_result"
    }
   ],
   "source": [
    "yy[idx].reshape(50,50)"
   ]
  },
  {
   "cell_type": "markdown",
   "id": "f8895a44-b5d7-47f8-ab6d-e27baa2409f4",
   "metadata": {},
   "source": [
    "# Matplotlib"
   ]
  },
  {
   "cell_type": "code",
   "execution_count": 79,
   "id": "4a2df7c8-98c0-45c8-bff7-ae30892ac03d",
   "metadata": {},
   "outputs": [],
   "source": [
    "from matplotlib import pyplot as plt"
   ]
  },
  {
   "cell_type": "code",
   "execution_count": 80,
   "id": "380b4f61-7ea4-4068-9886-2d4271eba907",
   "metadata": {},
   "outputs": [
    {
     "data": {
      "text/plain": [
       "(100,)"
      ]
     },
     "execution_count": 80,
     "metadata": {},
     "output_type": "execute_result"
    }
   ],
   "source": [
    "x.shape"
   ]
  },
  {
   "cell_type": "code",
   "execution_count": 82,
   "id": "fbed7683-d6fb-4126-88fe-42e1fc23407b",
   "metadata": {},
   "outputs": [
    {
     "data": {
      "text/plain": [
       "[<matplotlib.lines.Line2D at 0x7f8e7565cc10>]"
      ]
     },
     "execution_count": 82,
     "metadata": {},
     "output_type": "execute_result"
    },
    {
     "data": {
      "image/png": "[encoded data removed]",
      "text/plain": [
       "<Figure size 432x288 with 1 Axes>"
      ]
     },
     "metadata": {
      "needs_background": "light"
     },
     "output_type": "display_data"
    }
   ],
   "source": [
    "plt.plot(x)"
   ]
  },
  {
   "cell_type": "code",
   "execution_count": 83,
   "id": "08b03493-c533-4b3a-8263-2d7f2172670e",
   "metadata": {},
   "outputs": [
    {
     "data": {
      "text/plain": [
       "<matplotlib.collections.QuadMesh at 0x7f8e6d522eb0>"
      ]
     },
     "execution_count": 83,
     "metadata": {},
     "output_type": "execute_result"
    },
    {
     "data": {
      "image/png": "[encoded data removed]",
      "text/plain": [
       "<Figure size 432x288 with 1 Axes>"
      ]
     },
     "metadata": {
      "needs_background": "light"
     },
     "output_type": "display_data"
    }
   ],
   "source": [
    "plt.pcolormesh(xx)"
   ]
  },
  {
   "cell_type": "code",
   "execution_count": 84,
   "id": "131f920d-8efb-4481-bd2d-4efb80e837b4",
   "metadata": {},
   "outputs": [
    {
     "data": {
      "text/plain": [
       "<matplotlib.collections.QuadMesh at 0x7f8e6d4f99a0>"
      ]
     },
     "execution_count": 84,
     "metadata": {},
     "output_type": "execute_result"
    },
    {
     "data": {
      "image/png": "[encoded data removed]",
      "text/plain": [
       "<Figure size 432x288 with 1 Axes>"
      ]
     },
     "metadata": {
      "needs_background": "light"
     },
     "output_type": "display_data"
    }
   ],
   "source": [
    "plt.pcolormesh(yy)"
   ]
  },
  {
   "cell_type": "markdown",
   "id": "e546bfa8-909e-4219-970b-58bcb1473b01",
   "metadata": {},
   "source": [
    "# Basic Math"
   ]
  },
  {
   "cell_type": "code",
   "execution_count": 114,
   "id": "261dcca4-68ee-430d-bee3-882c1836af58",
   "metadata": {},
   "outputs": [
    {
     "data": {
      "image/png": "[encoded data removed]",
      "text/plain": [
       "<Figure size 432x288 with 1 Axes>"
      ]
     },
     "metadata": {
      "needs_background": "light"
     },
     "output_type": "display_data"
    }
   ],
   "source": [
    "f = np.sin(xx) * np.cos(yy)\n",
    "plt.pcolormesh(f);"
   ]
  },
  {
   "cell_type": "code",
   "execution_count": 115,
   "id": "1149bf46-5791-48ff-a8c8-f3eb3379f8c4",
   "metadata": {},
   "outputs": [
    {
     "data": {
      "image/png": "[encoded data removed]",
      "text/plain": [
       "<Figure size 432x288 with 1 Axes>"
      ]
     },
     "metadata": {
      "needs_background": "light"
     },
     "output_type": "display_data"
    }
   ],
   "source": [
    "f_transposed = f.transpose()\n",
    "plt.pcolormesh(f_transposed);"
   ]
  },
  {
   "cell_type": "code",
   "execution_count": 116,
   "id": "d0dc565b-57b6-4420-b5e5-beee2d1b5162",
   "metadata": {},
   "outputs": [],
   "source": [
    "f_files = np.tile(f,(3,2))"
   ]
  },
  {
   "cell_type": "code",
   "execution_count": 117,
   "id": "5975ae0a-6a11-4b19-a40c-7f1bd55794ac",
   "metadata": {},
   "outputs": [
    {
     "data": {
      "text/plain": [
       "<matplotlib.collections.QuadMesh at 0x7f8e6c43abb0>"
      ]
     },
     "execution_count": 117,
     "metadata": {},
     "output_type": "execute_result"
    },
    {
     "data": {
      "image/png": "[encoded data removed]",
      "text/plain": [
       "<Figure size 432x288 with 1 Axes>"
      ]
     },
     "metadata": {
      "needs_background": "light"
     },
     "output_type": "display_data"
    }
   ],
   "source": [
    "plt.pcolormesh(f_files)"
   ]
  },
  {
   "cell_type": "code",
   "execution_count": 118,
   "id": "7c33363b-2a9d-49e0-8b27-eb50886650da",
   "metadata": {},
   "outputs": [
    {
     "data": {
      "text/plain": [
       "(100,)"
      ]
     },
     "execution_count": 118,
     "metadata": {},
     "output_type": "execute_result"
    }
   ],
   "source": [
    "x.shape"
   ]
  },
  {
   "cell_type": "code",
   "execution_count": 119,
   "id": "68214a1e-d343-43ae-ae19-37393d7dfe48",
   "metadata": {},
   "outputs": [],
   "source": [
    "newx = x [None, :]"
   ]
  },
  {
   "cell_type": "code",
   "execution_count": 120,
   "id": "f62a4b25-c2b3-4c43-86dd-d681259885ed",
   "metadata": {},
   "outputs": [
    {
     "data": {
      "text/plain": [
       "(1, 100)"
      ]
     },
     "execution_count": 120,
     "metadata": {},
     "output_type": "execute_result"
    }
   ],
   "source": [
    "newx.shape"
   ]
  },
  {
   "cell_type": "markdown",
   "id": "43310134-8854-4630-bfb3-8da22a3605ff",
   "metadata": {},
   "source": [
    "## Reduction Operations"
   ]
  },
  {
   "cell_type": "code",
   "execution_count": 121,
   "id": "74dd32c9-2911-4bbc-a1ce-75fe44c543d4",
   "metadata": {},
   "outputs": [
    {
     "data": {
      "text/plain": [
       "array([2.        , 2.10526316, 2.21052632, 2.31578947, 2.42105263,\n",
       "       2.52631579, 2.63157895, 2.73684211, 2.84210526, 2.94736842,\n",
       "       3.05263158, 3.15789474, 3.26315789, 3.36842105, 3.47368421,\n",
       "       3.57894737, 3.68421053, 3.78947368, 3.89473684, 4.        ])"
      ]
     },
     "execution_count": 121,
     "metadata": {},
     "output_type": "execute_result"
    }
   ],
   "source": [
    "g"
   ]
  },
  {
   "cell_type": "code",
   "execution_count": 122,
   "id": "b371c412-6e9e-463e-b3d7-13f17805567c",
   "metadata": {},
   "outputs": [
    {
     "data": {
      "text/plain": [
       "(20,)"
      ]
     },
     "execution_count": 122,
     "metadata": {},
     "output_type": "execute_result"
    }
   ],
   "source": [
    "g.shape"
   ]
  },
  {
   "cell_type": "code",
   "execution_count": 123,
   "id": "91884f17-8964-43fd-8016-1476a881f0a0",
   "metadata": {},
   "outputs": [
    {
     "data": {
      "text/plain": [
       "60.0"
      ]
     },
     "execution_count": 123,
     "metadata": {},
     "output_type": "execute_result"
    }
   ],
   "source": [
    "g.sum()"
   ]
  },
  {
   "cell_type": "code",
   "execution_count": 124,
   "id": "e92f4e30-d3c4-43b0-9bde-4794224ca0af",
   "metadata": {},
   "outputs": [
    {
     "data": {
      "text/plain": [
       "0.6069769786668839"
      ]
     },
     "execution_count": 124,
     "metadata": {},
     "output_type": "execute_result"
    }
   ],
   "source": [
    "g.std()"
   ]
  },
  {
   "cell_type": "code",
   "execution_count": 125,
   "id": "b85fac5b-ab5c-490a-9a1a-247e40cf5f69",
   "metadata": {},
   "outputs": [
    {
     "data": {
      "text/plain": [
       "3.0"
      ]
     },
     "execution_count": 125,
     "metadata": {},
     "output_type": "execute_result"
    }
   ],
   "source": [
    "g.mean()"
   ]
  },
  {
   "cell_type": "code",
   "execution_count": 126,
   "id": "b3c3cf83-7bf2-4c26-8da3-b73342ca38e3",
   "metadata": {},
   "outputs": [
    {
     "data": {
      "text/plain": [
       "(50, 100)"
      ]
     },
     "execution_count": 126,
     "metadata": {},
     "output_type": "execute_result"
    }
   ],
   "source": [
    "f.shape"
   ]
  },
  {
   "cell_type": "code",
   "execution_count": 127,
   "id": "3ceb8301-3d3b-4284-93c0-a110df7bfd32",
   "metadata": {},
   "outputs": [],
   "source": [
    "f_ymean = f.mean(axis =0)"
   ]
  },
  {
   "cell_type": "code",
   "execution_count": 128,
   "id": "853b9e33-880a-4630-b8bd-fe7891a0412d",
   "metadata": {},
   "outputs": [
    {
     "data": {
      "text/plain": [
       "(50, 100)"
      ]
     },
     "execution_count": 128,
     "metadata": {},
     "output_type": "execute_result"
    }
   ],
   "source": [
    "f.shape"
   ]
  },
  {
   "cell_type": "code",
   "execution_count": 129,
   "id": "ea6e0227-c01d-42fc-ad67-5f662b5e0f0d",
   "metadata": {},
   "outputs": [
    {
     "data": {
      "text/plain": [
       "[<matplotlib.lines.Line2D at 0x7f8e6cfdca90>]"
      ]
     },
     "execution_count": 129,
     "metadata": {},
     "output_type": "execute_result"
    },
    {
     "data": {
      "image/png": "[encoded data removed]",
      "text/plain": [
       "<Figure size 432x288 with 1 Axes>"
      ]
     },
     "metadata": {
      "needs_background": "light"
     },
     "output_type": "display_data"
    }
   ],
   "source": [
    "plt.plot(x,f_ymean)"
   ]
  },
  {
   "cell_type": "code",
   "execution_count": 130,
   "id": "fcb9fd59-862f-4077-87af-a41f5fa317b3",
   "metadata": {},
   "outputs": [
    {
     "data": {
      "text/plain": [
       "[<matplotlib.lines.Line2D at 0x7f8e6ceedbe0>]"
      ]
     },
     "execution_count": 130,
     "metadata": {},
     "output_type": "execute_result"
    },
    {
     "data": {
      "image/png": "[encoded data removed]",
      "text/plain": [
       "<Figure size 432x288 with 1 Axes>"
      ]
     },
     "metadata": {
      "needs_background": "light"
     },
     "output_type": "display_data"
    }
   ],
   "source": [
    "f_xmean = f.mean(axis=1)\n",
    "plt.plot(f_xmean,y)"
   ]
  },
  {
   "cell_type": "code",
   "execution_count": 108,
   "id": "a7271c98-d3a6-49e4-ad65-e5a524a8df28",
   "metadata": {},
   "outputs": [
    {
     "data": {
      "text/plain": [
       "array([-6.28318531, -6.15625227, -6.02931923, -5.9023862 , -5.77545316,\n",
       "       -5.64852012, -5.52158709, -5.39465405, -5.26772102, -5.14078798,\n",
       "       -5.01385494, -4.88692191, -4.75998887, -4.63305583, -4.5061228 ,\n",
       "       -4.37918976, -4.25225672, -4.12532369, -3.99839065, -3.87145761,\n",
       "       -3.74452458, -3.61759154, -3.4906585 , -3.36372547, -3.23679243,\n",
       "       -3.10985939, -2.98292636, -2.85599332, -2.72906028, -2.60212725,\n",
       "       -2.47519421, -2.34826118, -2.22132814, -2.0943951 , -1.96746207,\n",
       "       -1.84052903, -1.71359599, -1.58666296, -1.45972992, -1.33279688,\n",
       "       -1.20586385, -1.07893081, -0.95199777, -0.82506474, -0.6981317 ,\n",
       "       -0.57119866, -0.44426563, -0.31733259, -0.19039955, -0.06346652,\n",
       "        0.06346652,  0.19039955,  0.31733259,  0.44426563,  0.57119866,\n",
       "        0.6981317 ,  0.82506474,  0.95199777,  1.07893081,  1.20586385,\n",
       "        1.33279688,  1.45972992,  1.58666296,  1.71359599,  1.84052903,\n",
       "        1.96746207,  2.0943951 ,  2.22132814,  2.34826118,  2.47519421,\n",
       "        2.60212725,  2.72906028,  2.85599332,  2.98292636,  3.10985939,\n",
       "        3.23679243,  3.36372547,  3.4906585 ,  3.61759154,  3.74452458,\n",
       "        3.87145761,  3.99839065,  4.12532369,  4.25225672,  4.37918976,\n",
       "        4.5061228 ,  4.63305583,  4.75998887,  4.88692191,  5.01385494,\n",
       "        5.14078798,  5.26772102,  5.39465405,  5.52158709,  5.64852012,\n",
       "        5.77545316,  5.9023862 ,  6.02931923,  6.15625227,  6.28318531])"
      ]
     },
     "execution_count": 108,
     "metadata": {},
     "output_type": "execute_result"
    }
   ],
   "source": []
  },
  {
   "cell_type": "code",
   "execution_count": null,
   "id": "2873cef4-b0e3-4e49-8cf4-dcb4cee18904",
   "metadata": {},
   "outputs": [],
   "source": [
    "# two way to change the limits. (the oringinal one is given 0 by xx axis) Watch the recording "
   ]
  }
 ],
 "metadata": {
  "kernelspec": {
   "display_name": "Python 3 (ipykernel)",
   "language": "python",
   "name": "python3"
  },
  "language_info": {
   "codemirror_mode": {
    "name": "ipython",
    "version": 3
   },
   "file_extension": ".py",
   "mimetype": "text/x-python",
   "name": "python",
   "nbconvert_exporter": "python",
   "pygments_lexer": "ipython3",
   "version": "3.9.13"
  }
 },
 "nbformat": 4,
 "nbformat_minor": 5
}
