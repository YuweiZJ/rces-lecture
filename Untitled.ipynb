{
 "cells": [
  {
   "cell_type": "code",
   "execution_count": 1,
   "id": "9b58c65e-e2ef-46a8-ad6e-81682ac037dc",
   "metadata": {},
   "outputs": [
    {
     "data": {
      "text/plain": [
       "1"
      ]
     },
     "execution_count": 1,
     "metadata": {},
     "output_type": "execute_result"
    }
   ],
   "source": [
    "a = 1\n",
    "a"
   ]
  },
  {
   "cell_type": "code",
   "execution_count": 2,
   "id": "b2e35ae9-5a6d-4907-8069-f096c7cf2e7b",
   "metadata": {},
   "outputs": [],
   "source": [
    "b = \"heyy\""
   ]
  },
  {
   "cell_type": "code",
   "execution_count": 4,
   "id": "2c5ecfcd-874d-49a6-8411-d02051dafc68",
   "metadata": {},
   "outputs": [
    {
     "name": "stdout",
     "output_type": "stream",
     "text": [
      "1 heyy\n"
     ]
    }
   ],
   "source": [
    "print(a,b);"
   ]
  },
  {
   "cell_type": "code",
   "execution_count": 5,
   "id": "400447aa-93a3-4644-875b-fff376287c17",
   "metadata": {},
   "outputs": [
    {
     "data": {
      "text/plain": [
       "int"
      ]
     },
     "execution_count": 5,
     "metadata": {},
     "output_type": "execute_result"
    }
   ],
   "source": [
    "type(a)"
   ]
  },
  {
   "cell_type": "code",
   "execution_count": 6,
   "id": "a767180e-7d58-4d07-b4e0-994bcba5f618",
   "metadata": {},
   "outputs": [
    {
     "data": {
      "text/plain": [
       "str"
      ]
     },
     "execution_count": 6,
     "metadata": {},
     "output_type": "execute_result"
    }
   ],
   "source": [
    "type(b)"
   ]
  },
  {
   "cell_type": "code",
   "execution_count": 7,
   "id": "cc94722a-c4b4-4499-84cd-19c85d7834db",
   "metadata": {},
   "outputs": [
    {
     "data": {
      "text/plain": [
       "'heyy'"
      ]
     },
     "execution_count": 7,
     "metadata": {},
     "output_type": "execute_result"
    }
   ],
   "source": [
    "b"
   ]
  },
  {
   "cell_type": "code",
   "execution_count": 9,
   "id": "04dfcd82-dc0c-4def-a608-a06d7d92eeb5",
   "metadata": {},
   "outputs": [
    {
     "data": {
      "text/plain": [
       "'Heyy'"
      ]
     },
     "execution_count": 9,
     "metadata": {},
     "output_type": "execute_result"
    }
   ],
   "source": [
    "b.capitalize()"
   ]
  },
  {
   "cell_type": "code",
   "execution_count": 12,
   "id": "d02bdfa9-7e58-48be-acf7-6cab9aecea4b",
   "metadata": {},
   "outputs": [
    {
     "data": {
      "text/plain": [
       "1"
      ]
     },
     "execution_count": 12,
     "metadata": {},
     "output_type": "execute_result"
    }
   ],
   "source": [
    "b.rfind('e')"
   ]
  },
  {
   "cell_type": "code",
   "execution_count": 13,
   "id": "836167e9-1ad9-4ea6-83ef-0c6e02613e99",
   "metadata": {},
   "outputs": [],
   "source": [
    "c =' lol'"
   ]
  },
  {
   "cell_type": "code",
   "execution_count": 14,
   "id": "6cb24814-8304-4916-a14e-3c9e02083f66",
   "metadata": {},
   "outputs": [
    {
     "name": "stdout",
     "output_type": "stream",
     "text": [
      "heyy lol\n"
     ]
    }
   ],
   "source": [
    "print(b+c)"
   ]
  },
  {
   "cell_type": "code",
   "execution_count": 16,
   "id": "951885e6-d800-452e-bd3d-54e8790ade9c",
   "metadata": {},
   "outputs": [
    {
     "name": "stdout",
     "output_type": "stream",
     "text": [
      "3\n"
     ]
    }
   ],
   "source": [
    "print(a+2)"
   ]
  },
  {
   "cell_type": "raw",
   "id": "ab6bba58-8eb8-4e71-a3af-e611949fd678",
   "metadata": {},
   "source": []
  },
  {
   "cell_type": "code",
   "execution_count": 17,
   "id": "906e6a44-b4de-407b-a8b9-331c96f6ab7a",
   "metadata": {},
   "outputs": [
    {
     "ename": "TypeError",
     "evalue": "unsupported operand type(s) for +: 'int' and 'str'",
     "output_type": "error",
     "traceback": [
      "\u001b[0;31m---------------------------------------------------------------------------\u001b[0m",
      "\u001b[0;31mTypeError\u001b[0m                                 Traceback (most recent call last)",
      "Input \u001b[0;32mIn [17]\u001b[0m, in \u001b[0;36m<cell line: 1>\u001b[0;34m()\u001b[0m\n\u001b[0;32m----> 1\u001b[0m \u001b[38;5;28mprint\u001b[39m(\u001b[43ma\u001b[49m\u001b[38;5;241;43m+\u001b[39;49m\u001b[43mb\u001b[49m)\n",
      "\u001b[0;31mTypeError\u001b[0m: unsupported operand type(s) for +: 'int' and 'str'"
     ]
    }
   ],
   "source": [
    "print(a+b)"
   ]
  },
  {
   "cell_type": "markdown",
   "id": "23d93874-7a36-47ff-9b43-082dcbb48676",
   "metadata": {},
   "source": [
    "Math"
   ]
  },
  {
   "cell_type": "code",
   "execution_count": 18,
   "id": "78391f4a-90a6-4016-a205-4f340e1a11e6",
   "metadata": {},
   "outputs": [
    {
     "data": {
      "text/plain": [
       "-3"
      ]
     },
     "execution_count": 18,
     "metadata": {},
     "output_type": "execute_result"
    }
   ],
   "source": [
    "1+1-5"
   ]
  },
  {
   "cell_type": "code",
   "execution_count": 19,
   "id": "2f6da56a-fdbf-42a2-bcce-0dc6285da5ba",
   "metadata": {},
   "outputs": [
    {
     "data": {
      "text/plain": [
       "0.5"
      ]
     },
     "execution_count": 19,
     "metadata": {},
     "output_type": "execute_result"
    }
   ],
   "source": [
    "1/2"
   ]
  },
  {
   "cell_type": "code",
   "execution_count": 20,
   "id": "bc3e466a-7785-4c18-afa0-994be86fe2ce",
   "metadata": {},
   "outputs": [],
   "source": [
    "d = 1/2"
   ]
  },
  {
   "cell_type": "code",
   "execution_count": 21,
   "id": "a4cfcf58-6cb8-4c8a-8e78-b64768805398",
   "metadata": {},
   "outputs": [
    {
     "data": {
      "text/plain": [
       "0.5"
      ]
     },
     "execution_count": 21,
     "metadata": {},
     "output_type": "execute_result"
    }
   ],
   "source": [
    "d"
   ]
  },
  {
   "cell_type": "code",
   "execution_count": 22,
   "id": "a50b491a-4ad4-4c07-8126-0913db435bc5",
   "metadata": {},
   "outputs": [
    {
     "data": {
      "text/plain": [
       "float"
      ]
     },
     "execution_count": 22,
     "metadata": {},
     "output_type": "execute_result"
    }
   ],
   "source": [
    "type(d)"
   ]
  },
  {
   "cell_type": "code",
   "execution_count": 23,
   "id": "9de010db-b4f7-463e-9313-67e44d6be8a6",
   "metadata": {},
   "outputs": [
    {
     "data": {
      "text/plain": [
       "4"
      ]
     },
     "execution_count": 23,
     "metadata": {},
     "output_type": "execute_result"
    }
   ],
   "source": [
    "2**2"
   ]
  },
  {
   "cell_type": "code",
   "execution_count": 24,
   "id": "6b7ef840-c3b6-490d-b49d-d0368fb25a5f",
   "metadata": {},
   "outputs": [
    {
     "data": {
      "text/plain": [
       "1"
      ]
     },
     "execution_count": 24,
     "metadata": {},
     "output_type": "execute_result"
    }
   ],
   "source": [
    "round(9/10)"
   ]
  },
  {
   "cell_type": "code",
   "execution_count": 25,
   "id": "3e75990c-887d-4b81-a308-1ea9ee2e5ab0",
   "metadata": {},
   "outputs": [
    {
     "data": {
      "text/plain": [
       "int"
      ]
     },
     "execution_count": 25,
     "metadata": {},
     "output_type": "execute_result"
    }
   ],
   "source": [
    "type(round(9/10))"
   ]
  },
  {
   "cell_type": "code",
   "execution_count": 26,
   "id": "efb08f2f-2c5c-459b-902b-fa536346604e",
   "metadata": {},
   "outputs": [
    {
     "data": {
      "text/plain": [
       "float"
      ]
     },
     "execution_count": 26,
     "metadata": {},
     "output_type": "execute_result"
    }
   ],
   "source": [
    "type(9/10)"
   ]
  },
  {
   "cell_type": "code",
   "execution_count": 27,
   "id": "cda10ff3-cb52-4e63-b438-4b5f997f59d8",
   "metadata": {},
   "outputs": [
    {
     "data": {
      "text/plain": [
       "(-0.2+0.4j)"
      ]
     },
     "execution_count": 27,
     "metadata": {},
     "output_type": "execute_result"
    }
   ],
   "source": [
    "(1+2j)/(3-4j)"
   ]
  },
  {
   "cell_type": "code",
   "execution_count": 28,
   "id": "599280b5-302b-412f-8b36-5bfb485befc8",
   "metadata": {},
   "outputs": [
    {
     "data": {
      "text/plain": [
       "True"
      ]
     },
     "execution_count": 28,
     "metadata": {},
     "output_type": "execute_result"
    }
   ],
   "source": [
    "True and True"
   ]
  },
  {
   "cell_type": "code",
   "execution_count": 29,
   "id": "2645c17e-7a70-4f60-9cd9-ddad573f133c",
   "metadata": {},
   "outputs": [
    {
     "data": {
      "text/plain": [
       "False"
      ]
     },
     "execution_count": 29,
     "metadata": {},
     "output_type": "execute_result"
    }
   ],
   "source": [
    "True and False"
   ]
  },
  {
   "cell_type": "markdown",
   "id": "961d24ab-885f-482f-a99e-4dbfe5a4fb0e",
   "metadata": {},
   "source": [
    "Conditionals"
   ]
  },
  {
   "cell_type": "code",
   "execution_count": 34,
   "id": "351e27a1-6d84-427d-bd7a-8483550a766f",
   "metadata": {},
   "outputs": [
    {
     "name": "stdout",
     "output_type": "stream",
     "text": [
      "Positive Number\n"
     ]
    }
   ],
   "source": [
    "x =100\n",
    "if x>0:\n",
    "    print('Positive Number')\n",
    "elif x<0:\n",
    "    print('Negative Number')\n",
    "else:\n",
    "    print('zero')"
   ]
  },
  {
   "cell_type": "code",
   "execution_count": 33,
   "id": "cbf339e5-9e65-4752-bfe2-259d005d7f4d",
   "metadata": {},
   "outputs": [
    {
     "name": "stdout",
     "output_type": "stream",
     "text": [
      "Variable   Type     Data/Info\n",
      "-----------------------------\n",
      "a          int      1\n",
      "b          str      heyy\n",
      "c          str       lol\n",
      "d          float    0.5\n",
      "x          int      100\n"
     ]
    }
   ],
   "source": [
    "whos"
   ]
  },
  {
   "cell_type": "code",
   "execution_count": 39,
   "id": "2ec47801-33df-41bf-a66b-4285509f92c7",
   "metadata": {},
   "outputs": [],
   "source": [
    "x =0"
   ]
  },
  {
   "cell_type": "code",
   "execution_count": 40,
   "id": "35d49896-5d3d-4b4c-803f-0f1a67fe6412",
   "metadata": {},
   "outputs": [
    {
     "name": "stdout",
     "output_type": "stream",
     "text": [
      "Done\n"
     ]
    }
   ],
   "source": [
    "if x >0:\n",
    "    print('Positive number')\n",
    "    if x>100:\n",
    "        print('Large Number')\n",
    "print('Done')"
   ]
  },
  {
   "cell_type": "code",
   "execution_count": 41,
   "id": "f3fad31d-f4b3-49a3-a823-cd7cd7167602",
   "metadata": {},
   "outputs": [],
   "source": [
    "#more Flow Control"
   ]
  },
  {
   "cell_type": "code",
   "execution_count": 47,
   "id": "3f84252f-e2b6-4954-8bc6-557629595ff2",
   "metadata": {},
   "outputs": [
    {
     "name": "stdout",
     "output_type": "stream",
     "text": [
      "10\n"
     ]
    }
   ],
   "source": [
    "count = 0\n",
    "while count<10:\n",
    "    count = count+1\n",
    "    #count += 1\n",
    "print (count)"
   ]
  },
  {
   "cell_type": "code",
   "execution_count": 46,
   "id": "3aff792c-0ddb-4fd2-9666-58b97f895d24",
   "metadata": {},
   "outputs": [
    {
     "name": "stdout",
     "output_type": "stream",
     "text": [
      "0\n",
      "1\n",
      "2\n",
      "3\n",
      "4\n"
     ]
    }
   ],
   "source": [
    "for i in range(5):\n",
    "    print(i)"
   ]
  },
  {
   "cell_type": "code",
   "execution_count": 48,
   "id": "30c15301-1045-4a5d-b082-10aa0a72b5ac",
   "metadata": {},
   "outputs": [
    {
     "data": {
      "text/plain": [
       "range(0, 5)"
      ]
     },
     "execution_count": 48,
     "metadata": {},
     "output_type": "execute_result"
    }
   ],
   "source": [
    "range (5)"
   ]
  },
  {
   "cell_type": "code",
   "execution_count": 49,
   "id": "171e0d12-f08d-44c2-86ad-110f1f269286",
   "metadata": {},
   "outputs": [
    {
     "data": {
      "text/plain": [
       "[0, 1, 2, 3, 4]"
      ]
     },
     "execution_count": 49,
     "metadata": {},
     "output_type": "execute_result"
    }
   ],
   "source": [
    "list(range(5))"
   ]
  },
  {
   "cell_type": "code",
   "execution_count": 50,
   "id": "521631d2-e52d-45ef-a0d3-134d349e948a",
   "metadata": {},
   "outputs": [
    {
     "data": {
      "text/plain": [
       "\u001b[0;31mInit signature:\u001b[0m \u001b[0mrange\u001b[0m\u001b[0;34m(\u001b[0m\u001b[0mself\u001b[0m\u001b[0;34m,\u001b[0m \u001b[0;34m/\u001b[0m\u001b[0;34m,\u001b[0m \u001b[0;34m*\u001b[0m\u001b[0margs\u001b[0m\u001b[0;34m,\u001b[0m \u001b[0;34m**\u001b[0m\u001b[0mkwargs\u001b[0m\u001b[0;34m)\u001b[0m\u001b[0;34m\u001b[0m\u001b[0;34m\u001b[0m\u001b[0m\n",
       "\u001b[0;31mDocstring:\u001b[0m     \n",
       "range(stop) -> range object\n",
       "range(start, stop[, step]) -> range object\n",
       "\n",
       "Return an object that produces a sequence of integers from start (inclusive)\n",
       "to stop (exclusive) by step.  range(i, j) produces i, i+1, i+2, ..., j-1.\n",
       "start defaults to 0, and stop is omitted!  range(4) produces 0, 1, 2, 3.\n",
       "These are exactly the valid indices for a list of 4 elements.\n",
       "When step is given, it specifies the increment (or decrement).\n",
       "\u001b[0;31mType:\u001b[0m           type\n",
       "\u001b[0;31mSubclasses:\u001b[0m     \n"
      ]
     },
     "metadata": {},
     "output_type": "display_data"
    }
   ],
   "source": [
    "range?"
   ]
  },
  {
   "cell_type": "code",
   "execution_count": 51,
   "id": "c99e2e6e-3dcb-4dc4-976e-afe5ec4fcc3e",
   "metadata": {},
   "outputs": [
    {
     "data": {
      "text/plain": [
       "[4, 5]"
      ]
     },
     "execution_count": 51,
     "metadata": {},
     "output_type": "execute_result"
    }
   ],
   "source": [
    "list(range(4,6))"
   ]
  },
  {
   "cell_type": "markdown",
   "id": "6c89a2df-6e12-4915-8f45-7a8b4ae60d2c",
   "metadata": {},
   "source": [
    "#Lists"
   ]
  },
  {
   "cell_type": "code",
   "execution_count": 53,
   "id": "4e6f846a-0a6f-4302-ac06-2d8f97cf1f56",
   "metadata": {},
   "outputs": [],
   "source": [
    "l = ['dog','cat','duck']"
   ]
  },
  {
   "cell_type": "code",
   "execution_count": 54,
   "id": "5796ebf3-e4d3-4bdd-ae85-ad1c9aaa902e",
   "metadata": {},
   "outputs": [
    {
     "data": {
      "text/plain": [
       "['dog', 'cat', 'duck']"
      ]
     },
     "execution_count": 54,
     "metadata": {},
     "output_type": "execute_result"
    }
   ],
   "source": [
    "l"
   ]
  },
  {
   "cell_type": "code",
   "execution_count": 57,
   "id": "d645746c-794b-4c53-9472-aecd897fb226",
   "metadata": {},
   "outputs": [
    {
     "data": {
      "text/plain": [
       "['cat', 'dog', 'duck']"
      ]
     },
     "execution_count": 57,
     "metadata": {},
     "output_type": "execute_result"
    }
   ],
   "source": [
    "l.sort()\n",
    "l"
   ]
  },
  {
   "cell_type": "code",
   "execution_count": 58,
   "id": "49d4bd2e-320c-4c25-a9f0-0edf3658060f",
   "metadata": {},
   "outputs": [],
   "source": [
    "l.append('snake')"
   ]
  },
  {
   "cell_type": "code",
   "execution_count": 59,
   "id": "78531426-4945-47a7-9a50-6b6b52d0ca77",
   "metadata": {},
   "outputs": [
    {
     "data": {
      "text/plain": [
       "['cat', 'dog', 'duck', 'snake']"
      ]
     },
     "execution_count": 59,
     "metadata": {},
     "output_type": "execute_result"
    }
   ],
   "source": [
    "l"
   ]
  },
  {
   "cell_type": "code",
   "execution_count": 60,
   "id": "0203aa26-78ef-410a-a4f4-31acd364f261",
   "metadata": {},
   "outputs": [],
   "source": [
    "l.append(5)"
   ]
  },
  {
   "cell_type": "code",
   "execution_count": 61,
   "id": "b70cebc0-36c6-4221-b837-67da62167905",
   "metadata": {},
   "outputs": [
    {
     "data": {
      "text/plain": [
       "['cat', 'dog', 'duck', 'snake', 5]"
      ]
     },
     "execution_count": 61,
     "metadata": {},
     "output_type": "execute_result"
    }
   ],
   "source": [
    "l"
   ]
  },
  {
   "cell_type": "code",
   "execution_count": 62,
   "id": "3c5389b0-954f-4371-b8ff-9998f3545fea",
   "metadata": {},
   "outputs": [
    {
     "data": {
      "text/plain": [
       "[0, 1, 2, 3, 4, 10, 11, 12, 13, 14]"
      ]
     },
     "execution_count": 62,
     "metadata": {},
     "output_type": "execute_result"
    }
   ],
   "source": [
    "x = list(range(5))\n",
    "y = list(range(10,15))\n",
    "z = x+y\n",
    "z"
   ]
  },
  {
   "cell_type": "code",
   "execution_count": 63,
   "id": "8aed8ea1-e3af-4d64-85c7-55b0b910fe30",
   "metadata": {},
   "outputs": [
    {
     "data": {
      "text/plain": [
       "0"
      ]
     },
     "execution_count": 63,
     "metadata": {},
     "output_type": "execute_result"
    }
   ],
   "source": [
    "a = int(9/10)\n",
    "a"
   ]
  },
  {
   "cell_type": "code",
   "execution_count": 64,
   "id": "701568c6-e02a-40b2-8366-aa0c03d12dc0",
   "metadata": {},
   "outputs": [],
   "source": [
    "a = float(round(9/10))"
   ]
  },
  {
   "cell_type": "code",
   "execution_count": 65,
   "id": "7266d0b4-2b41-4dd3-adf1-27e3520af3e9",
   "metadata": {},
   "outputs": [
    {
     "data": {
      "text/plain": [
       "1.0"
      ]
     },
     "execution_count": 65,
     "metadata": {},
     "output_type": "execute_result"
    }
   ],
   "source": [
    "a"
   ]
  },
  {
   "cell_type": "markdown",
   "id": "f1ef5004-f71e-4c51-a525-9132343e78bf",
   "metadata": {},
   "source": [
    "## Tuples"
   ]
  },
  {
   "cell_type": "code",
   "execution_count": 1,
   "id": "9bd83b63-2ba3-4095-b4ea-65c1615cc974",
   "metadata": {},
   "outputs": [
    {
     "data": {
      "text/plain": [
       "('Tim', 26, True)"
      ]
     },
     "execution_count": 1,
     "metadata": {},
     "output_type": "execute_result"
    }
   ],
   "source": [
    "a = ('Tim',26, True)\n",
    "a"
   ]
  },
  {
   "cell_type": "code",
   "execution_count": 3,
   "id": "01d628be-be25-457e-8ad6-96f660c76bff",
   "metadata": {},
   "outputs": [
    {
     "data": {
      "text/plain": [
       "tuple"
      ]
     },
     "execution_count": 3,
     "metadata": {},
     "output_type": "execute_result"
    }
   ],
   "source": [
    "type(a)"
   ]
  },
  {
   "cell_type": "code",
   "execution_count": 4,
   "id": "35f81032-5fcd-46f1-9336-80333255a96e",
   "metadata": {},
   "outputs": [
    {
     "data": {
      "text/plain": [
       "'Tim'"
      ]
     },
     "execution_count": 4,
     "metadata": {},
     "output_type": "execute_result"
    }
   ],
   "source": [
    "a[0]"
   ]
  },
  {
   "cell_type": "code",
   "execution_count": 5,
   "id": "e49f5af4-0e6a-49c2-9627-a9aab441b32b",
   "metadata": {},
   "outputs": [
    {
     "ename": "TypeError",
     "evalue": "'tuple' object does not support item assignment",
     "output_type": "error",
     "traceback": [
      "\u001b[0;31m---------------------------------------------------------------------------\u001b[0m",
      "\u001b[0;31mTypeError\u001b[0m                                 Traceback (most recent call last)",
      "Input \u001b[0;32mIn [5]\u001b[0m, in \u001b[0;36m<cell line: 1>\u001b[0;34m()\u001b[0m\n\u001b[0;32m----> 1\u001b[0m a[\u001b[38;5;241m0\u001b[39m] \u001b[38;5;241m=\u001b[39m\u001b[38;5;241m3\u001b[39m\n",
      "\u001b[0;31mTypeError\u001b[0m: 'tuple' object does not support item assignment"
     ]
    }
   ],
   "source": [
    "a[0] =3 #gives error cuz tuple cannot change the compnent inside"
   ]
  },
  {
   "cell_type": "code",
   "execution_count": 6,
   "id": "990238a7-3094-44a0-87dd-fb0bd51b695a",
   "metadata": {},
   "outputs": [
    {
     "data": {
      "text/plain": [
       "('Tim', 26, True)"
      ]
     },
     "execution_count": 6,
     "metadata": {},
     "output_type": "execute_result"
    }
   ],
   "source": [
    "a"
   ]
  },
  {
   "cell_type": "code",
   "execution_count": 8,
   "id": "e197f70c-d2db-4f6c-81d6-f8ffe369005e",
   "metadata": {},
   "outputs": [
    {
     "data": {
      "text/plain": [
       "'Tim'"
      ]
     },
     "execution_count": 8,
     "metadata": {},
     "output_type": "execute_result"
    }
   ],
   "source": [
    "name, age, status = a\n",
    "name"
   ]
  },
  {
   "cell_type": "code",
   "execution_count": 9,
   "id": "0a4aa0ad-ee6d-4b52-86b1-1b8c3bd7921b",
   "metadata": {},
   "outputs": [
    {
     "data": {
      "text/plain": [
       "'Tim'"
      ]
     },
     "execution_count": 9,
     "metadata": {},
     "output_type": "execute_result"
    }
   ],
   "source": [
    "name"
   ]
  },
  {
   "cell_type": "code",
   "execution_count": 11,
   "id": "3ed871f6-5f16-40bf-822b-23083e47950d",
   "metadata": {},
   "outputs": [
    {
     "data": {
      "text/plain": [
       "26"
      ]
     },
     "execution_count": 11,
     "metadata": {},
     "output_type": "execute_result"
    }
   ],
   "source": [
    "age"
   ]
  },
  {
   "cell_type": "code",
   "execution_count": 12,
   "id": "a5ceb3d6-b354-4b3a-b51d-43d454b8a612",
   "metadata": {},
   "outputs": [
    {
     "data": {
      "text/plain": [
       "True"
      ]
     },
     "execution_count": 12,
     "metadata": {},
     "output_type": "execute_result"
    }
   ],
   "source": [
    "status"
   ]
  },
  {
   "cell_type": "markdown",
   "id": "f079fbb7-3496-49ad-8fbb-e02a2de9f0f7",
   "metadata": {},
   "source": [
    "## Dictionaries"
   ]
  },
  {
   "cell_type": "code",
   "execution_count": 19,
   "id": "7e9e5dd0-4b17-4902-b33f-f4f94dca2bcf",
   "metadata": {},
   "outputs": [],
   "source": [
    "b = {'name':'Yuwei','age':23}"
   ]
  },
  {
   "cell_type": "code",
   "execution_count": 20,
   "id": "96ee68e2-7b2d-4c04-8526-a17b62213007",
   "metadata": {},
   "outputs": [],
   "source": [
    "e = dict(name = 'Yuwei',age = 25)"
   ]
  },
  {
   "cell_type": "code",
   "execution_count": 21,
   "id": "6a032c56-5f85-4333-a98f-d11c9e531cff",
   "metadata": {},
   "outputs": [
    {
     "data": {
      "text/plain": [
       "{'name': 'Yuwei', 'age': 25}"
      ]
     },
     "execution_count": 21,
     "metadata": {},
     "output_type": "execute_result"
    }
   ],
   "source": [
    "e"
   ]
  },
  {
   "cell_type": "code",
   "execution_count": 22,
   "id": "6567580d-2991-440f-a775-84c54e44cb89",
   "metadata": {},
   "outputs": [
    {
     "data": {
      "text/plain": [
       "'Yuwei'"
      ]
     },
     "execution_count": 22,
     "metadata": {},
     "output_type": "execute_result"
    }
   ],
   "source": [
    "b['name']"
   ]
  },
  {
   "cell_type": "code",
   "execution_count": 23,
   "id": "a4fcf9c1-3c7e-44ed-ae46-c5be1ca9f7ea",
   "metadata": {},
   "outputs": [
    {
     "name": "stdout",
     "output_type": "stream",
     "text": [
      "True\n"
     ]
    }
   ],
   "source": [
    "print('age' in b)"
   ]
  },
  {
   "cell_type": "code",
   "execution_count": 24,
   "id": "b3438d99-5d44-48da-94b1-e6376a11b636",
   "metadata": {},
   "outputs": [
    {
     "name": "stdout",
     "output_type": "stream",
     "text": [
      "False\n"
     ]
    }
   ],
   "source": [
    "print('height' in b)"
   ]
  },
  {
   "cell_type": "code",
   "execution_count": 25,
   "id": "306a96d7-a7d2-4647-aae4-287251b73a2d",
   "metadata": {},
   "outputs": [],
   "source": [
    "b['height']=(5,4)"
   ]
  },
  {
   "cell_type": "code",
   "execution_count": 26,
   "id": "f4e45ac8-774f-4f7e-8685-b6e1c897b55a",
   "metadata": {},
   "outputs": [
    {
     "data": {
      "text/plain": [
       "{'name': 'Yuwei', 'age': 23, 'height': (5, 4)}"
      ]
     },
     "execution_count": 26,
     "metadata": {},
     "output_type": "execute_result"
    }
   ],
   "source": [
    "b"
   ]
  },
  {
   "cell_type": "code",
   "execution_count": 27,
   "id": "9b57ba1f-a6e5-470e-9755-db89ca5f72fb",
   "metadata": {},
   "outputs": [],
   "source": [
    "b[99] = 'ninty nine'"
   ]
  },
  {
   "cell_type": "code",
   "execution_count": 28,
   "id": "8233b586-0454-474a-980c-2ca8105efd18",
   "metadata": {},
   "outputs": [
    {
     "data": {
      "text/plain": [
       "{'name': 'Yuwei', 'age': 23, 'height': (5, 4), 99: 'ninty nine'}"
      ]
     },
     "execution_count": 28,
     "metadata": {},
     "output_type": "execute_result"
    }
   ],
   "source": [
    "b"
   ]
  },
  {
   "cell_type": "code",
   "execution_count": 30,
   "id": "f1ca1648-dda0-407d-9f75-b615b383d6cc",
   "metadata": {},
   "outputs": [
    {
     "name": "stdout",
     "output_type": "stream",
     "text": [
      "name Yuwei\n",
      "age 23\n",
      "height (5, 4)\n",
      "99 ninty nine\n"
     ]
    }
   ],
   "source": [
    "for k in b:\n",
    "    print(k, b[k])"
   ]
  },
  {
   "cell_type": "code",
   "execution_count": 31,
   "id": "3e6adb16-5f96-4f77-999c-665120f536da",
   "metadata": {},
   "outputs": [
    {
     "name": "stdout",
     "output_type": "stream",
     "text": [
      "name Yuwei\n",
      "age 23\n",
      "height (5, 4)\n",
      "99 ninty nine\n"
     ]
    }
   ],
   "source": [
    "for key, val in b.items():\n",
    "    print(key, val)"
   ]
  },
  {
   "cell_type": "markdown",
   "id": "5d10a8d8-6fce-4b3c-baf3-02250792ffe0",
   "metadata": {},
   "source": [
    "# Python Functions (and classes)"
   ]
  },
  {
   "cell_type": "markdown",
   "id": "9df6bd12-f7a7-4946-822d-11217c7afe60",
   "metadata": {},
   "source": [
    "## Functions"
   ]
  },
  {
   "cell_type": "code",
   "execution_count": 32,
   "id": "fe002efe-0e94-4520-a894-b2e6ec275d95",
   "metadata": {},
   "outputs": [],
   "source": [
    "def say_hello():\n",
    "    \"\"\"Return the word Hello.\"\"\"\n",
    "    return 'Hello'"
   ]
  },
  {
   "cell_type": "code",
   "execution_count": 33,
   "id": "9ea8c1a3-5cd4-446a-be76-26fb9df77238",
   "metadata": {},
   "outputs": [
    {
     "name": "stdout",
     "output_type": "stream",
     "text": [
      "Variable    Type        Data/Info\n",
      "---------------------------------\n",
      "a           tuple       n=3\n",
      "age         int         26\n",
      "b           dict        n=4\n",
      "e           dict        n=2\n",
      "k           int         99\n",
      "key         int         99\n",
      "name        str         Tim\n",
      "say_hello   function    <function say_hello at 0x7fabb2073040>\n",
      "status      bool        True\n",
      "val         str         ninty nine\n"
     ]
    }
   ],
   "source": [
    "whos"
   ]
  },
  {
   "cell_type": "code",
   "execution_count": 34,
   "id": "1fac9358-7504-498b-9947-a02e44a6ae9f",
   "metadata": {},
   "outputs": [
    {
     "data": {
      "text/plain": [
       "function"
      ]
     },
     "execution_count": 34,
     "metadata": {},
     "output_type": "execute_result"
    }
   ],
   "source": [
    "type(say_hello)"
   ]
  },
  {
   "cell_type": "code",
   "execution_count": 35,
   "id": "8afd07f1-0460-4b82-bb02-07110949ea3b",
   "metadata": {},
   "outputs": [
    {
     "data": {
      "text/plain": [
       "\u001b[0;31mSignature:\u001b[0m \u001b[0msay_hello\u001b[0m\u001b[0;34m(\u001b[0m\u001b[0;34m)\u001b[0m\u001b[0;34m\u001b[0m\u001b[0;34m\u001b[0m\u001b[0m\n",
       "\u001b[0;31mDocstring:\u001b[0m Return the word Hello.\n",
       "\u001b[0;31mFile:\u001b[0m      /tmp/ipykernel_5025/2405835090.py\n",
       "\u001b[0;31mType:\u001b[0m      function\n"
      ]
     },
     "metadata": {},
     "output_type": "display_data"
    }
   ],
   "source": [
    "say_hello?"
   ]
  },
  {
   "cell_type": "code",
   "execution_count": 36,
   "id": "49d2ee73-b46e-423d-9243-2048304e4d1c",
   "metadata": {},
   "outputs": [
    {
     "data": {
      "text/plain": [
       "'Hello'"
      ]
     },
     "execution_count": 36,
     "metadata": {},
     "output_type": "execute_result"
    }
   ],
   "source": [
    "say_hello()"
   ]
  },
  {
   "cell_type": "code",
   "execution_count": 45,
   "id": "abb5f86c-2964-4f0e-abc6-ec2474eb85d3",
   "metadata": {},
   "outputs": [],
   "source": [
    "def say_hello_to(name):\n",
    "    \"\"\" Return a greeting to a name.\"\"\"\n",
    "    return \"Hello \" + name + \"!\""
   ]
  },
  {
   "cell_type": "code",
   "execution_count": 46,
   "id": "d4a0b3a9-f674-46b7-95ea-e4b25b1a4b79",
   "metadata": {},
   "outputs": [
    {
     "data": {
      "text/plain": [
       "'Hello cat!'"
      ]
     },
     "execution_count": 46,
     "metadata": {},
     "output_type": "execute_result"
    }
   ],
   "source": [
    "say_hello_to('cat')"
   ]
  },
  {
   "cell_type": "code",
   "execution_count": 47,
   "id": "da60074a-5efd-4614-b357-c74d78a9111c",
   "metadata": {},
   "outputs": [
    {
     "data": {
      "text/plain": [
       "'Hello world!'"
      ]
     },
     "execution_count": 47,
     "metadata": {},
     "output_type": "execute_result"
    }
   ],
   "source": [
    "say_hello_to('world')"
   ]
  },
  {
   "cell_type": "code",
   "execution_count": 48,
   "id": "8ed4de29-73ce-485e-977d-ba6b7ee28fae",
   "metadata": {},
   "outputs": [
    {
     "ename": "TypeError",
     "evalue": "can only concatenate str (not \"int\") to str",
     "output_type": "error",
     "traceback": [
      "\u001b[0;31m---------------------------------------------------------------------------\u001b[0m",
      "\u001b[0;31mTypeError\u001b[0m                                 Traceback (most recent call last)",
      "Input \u001b[0;32mIn [48]\u001b[0m, in \u001b[0;36m<cell line: 1>\u001b[0;34m()\u001b[0m\n\u001b[0;32m----> 1\u001b[0m \u001b[43msay_hello_to\u001b[49m\u001b[43m(\u001b[49m\u001b[38;5;241;43m10\u001b[39;49m\u001b[43m)\u001b[49m\n",
      "Input \u001b[0;32mIn [45]\u001b[0m, in \u001b[0;36msay_hello_to\u001b[0;34m(name)\u001b[0m\n\u001b[1;32m      1\u001b[0m \u001b[38;5;28;01mdef\u001b[39;00m \u001b[38;5;21msay_hello_to\u001b[39m(name):\n\u001b[1;32m      2\u001b[0m     \u001b[38;5;124;03m\"\"\" Return a greeting to a name.\"\"\"\u001b[39;00m\n\u001b[0;32m----> 3\u001b[0m     \u001b[38;5;28;01mreturn\u001b[39;00m \u001b[38;5;124;43m\"\u001b[39;49m\u001b[38;5;124;43mHello \u001b[39;49m\u001b[38;5;124;43m\"\u001b[39;49m\u001b[43m \u001b[49m\u001b[38;5;241;43m+\u001b[39;49m\u001b[43m \u001b[49m\u001b[43mname\u001b[49m \u001b[38;5;241m+\u001b[39m \u001b[38;5;124m\"\u001b[39m\u001b[38;5;124m!\u001b[39m\u001b[38;5;124m\"\u001b[39m\n",
      "\u001b[0;31mTypeError\u001b[0m: can only concatenate str (not \"int\") to str"
     ]
    }
   ],
   "source": [
    "say_hello_to(10)"
   ]
  },
  {
   "cell_type": "code",
   "execution_count": 49,
   "id": "3877d8d4-d250-4925-b885-d9e7c2e6b9f8",
   "metadata": {},
   "outputs": [],
   "source": [
    "def say_hello_to2(name):\n",
    "    \"\"\" Return a greeting to a name.\"\"\"\n",
    "    return \"Hello \" + str(name) + \"!\""
   ]
  },
  {
   "cell_type": "code",
   "execution_count": 50,
   "id": "26ae1d16-af7b-4e06-9b0a-fc30bbca81bd",
   "metadata": {},
   "outputs": [
    {
     "data": {
      "text/plain": [
       "'Hello 10!'"
      ]
     },
     "execution_count": 50,
     "metadata": {},
     "output_type": "execute_result"
    }
   ],
   "source": [
    "say_hello_to2(10)"
   ]
  },
  {
   "cell_type": "code",
   "execution_count": 56,
   "id": "984225cb-3016-449b-99e6-a6be53c70795",
   "metadata": {},
   "outputs": [],
   "source": [
    "def say_hello_or_hola(name, spanish=False):\n",
    "    if spanish: \n",
    "        greeting = 'hola '\n",
    "    else:\n",
    "        greeting = 'Hello '\n",
    "    return greeting + name"
   ]
  },
  {
   "cell_type": "code",
   "execution_count": 59,
   "id": "1b02bb69-f88c-46ca-b35f-8fb09da9d5b2",
   "metadata": {},
   "outputs": [
    {
     "data": {
      "text/plain": [
       "'hola Yuwei'"
      ]
     },
     "execution_count": 59,
     "metadata": {},
     "output_type": "execute_result"
    }
   ],
   "source": [
    "say_hello_or_hola('Tim')\n",
    "say_hello_or_hola('Yuwei', spanish = True)"
   ]
  },
  {
   "cell_type": "code",
   "execution_count": 64,
   "id": "2bbf1cab-d83b-4982-b6e4-a58a71b89f93",
   "metadata": {},
   "outputs": [],
   "source": [
    "def say_hello_to_everyone(*args):\n",
    "    return ['Hello ' + str(a) for a in args]"
   ]
  },
  {
   "cell_type": "code",
   "execution_count": 65,
   "id": "e0513459-041f-48c8-96c6-31881dbf7862",
   "metadata": {},
   "outputs": [
    {
     "data": {
      "text/plain": [
       "['Hello Tim', 'Hello Yuwei', 'Hello Kat']"
      ]
     },
     "execution_count": 65,
     "metadata": {},
     "output_type": "execute_result"
    }
   ],
   "source": [
    "say_hello_to_everyone('Tim','Yuwei','Kat')"
   ]
  },
  {
   "cell_type": "markdown",
   "id": "835e9d30-b2e5-46f1-8013-0f85edfbfdff",
   "metadata": {},
   "source": [
    "# Namespaces"
   ]
  },
  {
   "cell_type": "code",
   "execution_count": 68,
   "id": "ff00f77c-6b81-4bf1-8de9-c2c84e5214d7",
   "metadata": {},
   "outputs": [],
   "source": [
    "name = 'Tim'\n",
    "def print_name():\n",
    "    print(name)\n",
    "    \n",
    "def print_another_name():\n",
    "    name = 'Yuwei'\n",
    "    print(name)"
   ]
  },
  {
   "cell_type": "code",
   "execution_count": 69,
   "id": "e35de7dd-8780-4a80-9cbb-a52e54bb4c25",
   "metadata": {},
   "outputs": [
    {
     "name": "stdout",
     "output_type": "stream",
     "text": [
      "Tim\n"
     ]
    }
   ],
   "source": [
    "print(name)"
   ]
  },
  {
   "cell_type": "code",
   "execution_count": 70,
   "id": "b7910f3b-ef43-4bc5-a2f4-fea779810e71",
   "metadata": {},
   "outputs": [
    {
     "name": "stdout",
     "output_type": "stream",
     "text": [
      "Yuwei\n"
     ]
    }
   ],
   "source": [
    "print_another_name()"
   ]
  },
  {
   "cell_type": "code",
   "execution_count": 71,
   "id": "1f250a15-b095-4a89-9a32-47975e88e72e",
   "metadata": {},
   "outputs": [
    {
     "name": "stdout",
     "output_type": "stream",
     "text": [
      "Tim\n"
     ]
    }
   ],
   "source": [
    "print(name) # name inside a function has nothing to do the name outside the fucntion, they are separate"
   ]
  },
  {
   "cell_type": "markdown",
   "id": "a27a8565-05b7-4a6c-8fbd-b62099f7a2c2",
   "metadata": {},
   "source": [
    "Fibonacci Sequence"
   ]
  },
  {
   "cell_type": "code",
   "execution_count": 74,
   "id": "81baa2db-be40-46f7-ad59-3e56cc2a2a44",
   "metadata": {},
   "outputs": [],
   "source": [
    "def fib(n):\n",
    "    l = [1,1]\n",
    "    print(list(range(n-2)))\n",
    "    for i in range(n-2):\n",
    "        l.append(l[-1]+l[-2])\n",
    "    return l"
   ]
  },
  {
   "cell_type": "code",
   "execution_count": 75,
   "id": "4cd93a46-be35-4eb0-8d1e-aeb7ba573dd7",
   "metadata": {},
   "outputs": [
    {
     "name": "stdout",
     "output_type": "stream",
     "text": [
      "[0, 1, 2, 3, 4, 5, 6, 7]\n"
     ]
    },
    {
     "data": {
      "text/plain": [
       "[1, 1, 2, 3, 5, 8, 13, 21, 34, 55]"
      ]
     },
     "execution_count": 75,
     "metadata": {},
     "output_type": "execute_result"
    }
   ],
   "source": [
    "fib(10)"
   ]
  },
  {
   "cell_type": "markdown",
   "id": "544e434a-a7da-454e-955d-2186f1e32bb4",
   "metadata": {},
   "source": [
    "# Classes"
   ]
  },
  {
   "cell_type": "code",
   "execution_count": 81,
   "id": "e618238a-2c6d-46b9-bd1a-a304d5e9c8dc",
   "metadata": {},
   "outputs": [],
   "source": [
    "class Hurricane:\n",
    "\n",
    "    def __init__(self, name):\n",
    "        self.name = name"
   ]
  },
  {
   "cell_type": "code",
   "execution_count": 82,
   "id": "55ebaf5a-e24a-45b1-a08e-25fad3bfb83c",
   "metadata": {},
   "outputs": [],
   "source": [
    "h = Hurricane('tim')"
   ]
  },
  {
   "cell_type": "code",
   "execution_count": 83,
   "id": "f9d188a3-0949-4189-857e-1a272bd5b8ca",
   "metadata": {},
   "outputs": [
    {
     "data": {
      "text/plain": [
       "<__main__.Hurricane at 0x7fabb1ba8250>"
      ]
     },
     "execution_count": 83,
     "metadata": {},
     "output_type": "execute_result"
    }
   ],
   "source": [
    "h"
   ]
  },
  {
   "cell_type": "code",
   "execution_count": 84,
   "id": "6175b3b0-8b08-4bb1-b64a-10be98265391",
   "metadata": {},
   "outputs": [
    {
     "data": {
      "text/plain": [
       "\u001b[0;31mType:\u001b[0m        Hurricane\n",
       "\u001b[0;31mString form:\u001b[0m <__main__.Hurricane object at 0x7fabb1ba8250>\n",
       "\u001b[0;31mDocstring:\u001b[0m   <no docstring>\n"
      ]
     },
     "metadata": {},
     "output_type": "display_data"
    }
   ],
   "source": [
    "h?"
   ]
  },
  {
   "cell_type": "code",
   "execution_count": 85,
   "id": "17192217-e752-491c-9016-f49841116ced",
   "metadata": {},
   "outputs": [
    {
     "data": {
      "text/plain": [
       "['__class__',\n",
       " '__delattr__',\n",
       " '__dict__',\n",
       " '__dir__',\n",
       " '__doc__',\n",
       " '__eq__',\n",
       " '__format__',\n",
       " '__ge__',\n",
       " '__getattribute__',\n",
       " '__gt__',\n",
       " '__hash__',\n",
       " '__init__',\n",
       " '__init_subclass__',\n",
       " '__le__',\n",
       " '__lt__',\n",
       " '__module__',\n",
       " '__ne__',\n",
       " '__new__',\n",
       " '__reduce__',\n",
       " '__reduce_ex__',\n",
       " '__repr__',\n",
       " '__setattr__',\n",
       " '__sizeof__',\n",
       " '__str__',\n",
       " '__subclasshook__',\n",
       " '__weakref__',\n",
       " 'name']"
      ]
     },
     "execution_count": 85,
     "metadata": {},
     "output_type": "execute_result"
    }
   ],
   "source": [
    "dir(h)"
   ]
  },
  {
   "cell_type": "code",
   "execution_count": null,
   "id": "061c037c-c568-44f1-a122-622e313bfdaa",
   "metadata": {},
   "outputs": [],
   "source": []
  }
 ],
 "metadata": {
  "kernelspec": {
   "display_name": "Python 3 (ipykernel)",
   "language": "python",
   "name": "python3"
  },
  "language_info": {
   "codemirror_mode": {
    "name": "ipython",
    "version": 3
   },
   "file_extension": ".py",
   "mimetype": "text/x-python",
   "name": "python",
   "nbconvert_exporter": "python",
   "pygments_lexer": "ipython3",
   "version": "3.9.13"
  }
 },
 "nbformat": 4,
 "nbformat_minor": 5
}
